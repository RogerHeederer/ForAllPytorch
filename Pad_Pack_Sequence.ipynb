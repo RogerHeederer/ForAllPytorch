{
  "nbformat": 4,
  "nbformat_minor": 0,
  "metadata": {
    "colab": {
      "name": "Pad_Pack_Sequence.ipynb",
      "provenance": [],
      "authorship_tag": "ABX9TyMMHfEW2j5gRyYZfedt460W",
      "include_colab_link": true
    },
    "kernelspec": {
      "name": "python3",
      "display_name": "Python 3"
    }
  },
  "cells": [
    {
      "cell_type": "markdown",
      "metadata": {
        "id": "view-in-github",
        "colab_type": "text"
      },
      "source": [
        "<a href=\"https://colab.research.google.com/github/RogerHeederer/ForAllPytorch/blob/main/Pad_Pack_Sequence.ipynb\" target=\"_parent\"><img src=\"https://colab.research.google.com/assets/colab-badge.svg\" alt=\"Open In Colab\"/></a>"
      ]
    },
    {
      "cell_type": "markdown",
      "metadata": {
        "id": "78wrXGh32xI7"
      },
      "source": [
        "RNN과 LSTM 계열 모델에서 sequence batch를 활용하는 팁에 대해서 설명"
      ]
    },
    {
      "cell_type": "code",
      "metadata": {
        "id": "tj99RzMDszaO"
      },
      "source": [
        "import torch\n",
        "import numpy as np\n",
        "from torch.nn.utils.rnn import pad_sequence, pack_sequence, pack_padded_sequence, pad_packed_sequence"
      ],
      "execution_count": 34,
      "outputs": []
    },
    {
      "cell_type": "code",
      "metadata": {
        "id": "MVfp-o1X3FB6"
      },
      "source": [
        "data = ['hello world', 'midnight', 'calculation', 'path', 'short circuit']\n",
        "\n",
        "#단어 집합 만들기\n",
        "char_set = []\n",
        "\n",
        "for seq in data:\n",
        "    for char in seq:\n",
        "        char_set += char\n",
        "\n",
        "char_set = ['<pad>'] + list(set(char_set))\n",
        "\n",
        "#위에 구현을 한 줄로도 표현 가능하다.\n",
        "#char_set = [<'pad'>] + list(set(char for seq in data for char in seq))"
      ],
      "execution_count": 35,
      "outputs": []
    },
    {
      "cell_type": "code",
      "metadata": {
        "id": "7T7GseXK3uU5"
      },
      "source": [
        "char2idx = {char: idx for idx, char in enumerate(char_set)}"
      ],
      "execution_count": 36,
      "outputs": []
    },
    {
      "cell_type": "code",
      "metadata": {
        "colab": {
          "base_uri": "https://localhost:8080/"
        },
        "id": "Vt5bd4Dn4GNd",
        "outputId": "c8f66153-aba9-4658-a81f-7d0a7b2cc90d"
      },
      "source": [
        "print('char_set:', char_set)\n",
        "print('char2idx:', char2idx)\n",
        "print('char_set length:', len(char_set))"
      ],
      "execution_count": 37,
      "outputs": [
        {
          "output_type": "stream",
          "text": [
            "char_set: ['<pad>', ' ', 'i', 'a', 't', 'e', 'r', 'm', 'p', 's', 'h', 'g', 'w', 'l', 'd', 'o', 'n', 'c', 'u']\n",
            "char2idx: {'<pad>': 0, ' ': 1, 'i': 2, 'a': 3, 't': 4, 'e': 5, 'r': 6, 'm': 7, 'p': 8, 's': 9, 'h': 10, 'g': 11, 'w': 12, 'l': 13, 'd': 14, 'o': 15, 'n': 16, 'c': 17, 'u': 18}\n",
            "char_set length: 19\n"
          ],
          "name": "stdout"
        }
      ]
    },
    {
      "cell_type": "code",
      "metadata": {
        "id": "jwlT-JwP54oI"
      },
      "source": [
        "X = []\n",
        "for seq in data:\n",
        "    X.append(torch.LongTensor([char2idx[char] for char in seq]))\n",
        "\n",
        "#위 코드를 한줄로 구현\n",
        "#X = [torch.LongTensor([char2idx[char] for char in seq]) for seq in data]"
      ],
      "execution_count": 63,
      "outputs": []
    },
    {
      "cell_type": "code",
      "metadata": {
        "colab": {
          "base_uri": "https://localhost:8080/"
        },
        "id": "B6NfOLHjC-u3",
        "outputId": "2b0ea109-c737-4114-87bb-f4c0e815c9ef"
      },
      "source": [
        "for sequence in X:\n",
        "    print(sequence)"
      ],
      "execution_count": 64,
      "outputs": [
        {
          "output_type": "stream",
          "text": [
            "tensor([10,  5, 13, 13, 15,  1, 12, 15,  6, 13, 14])\n",
            "tensor([ 7,  2, 14, 16,  2, 11, 10,  4])\n",
            "tensor([17,  3, 13, 17, 18, 13,  3,  4,  2, 15, 16])\n",
            "tensor([ 8,  3,  4, 10])\n",
            "tensor([ 9, 10, 15,  6,  4,  1, 17,  2,  6, 17, 18,  2,  4])\n"
          ],
          "name": "stdout"
        }
      ]
    },
    {
      "cell_type": "markdown",
      "metadata": {
        "id": "a0tqndEWFeKN"
      },
      "source": [
        ""
      ]
    },
    {
      "cell_type": "code",
      "metadata": {
        "colab": {
          "base_uri": "https://localhost:8080/"
        },
        "id": "bjNYV5ABEVC4",
        "outputId": "d60ad605-2e63-4292-fb3c-d987001126dd"
      },
      "source": [
        "# 이렇게 길이가 제각각이다\n",
        "lengths = [len(seq) for seq in X]\n",
        "print('lengths:', length)"
      ],
      "execution_count": 65,
      "outputs": [
        {
          "output_type": "stream",
          "text": [
            "lengths: [11, 8, 11, 4, 13]\n"
          ],
          "name": "stdout"
        }
      ]
    },
    {
      "cell_type": "markdown",
      "metadata": {
        "id": "g4JZr7iK-ezG"
      },
      "source": [
        "## pad_sequence 함수를 사용하여 PaddedSequence(텐서) 만들기\n",
        "- 구성된 텐서 리스트의 Max값을 알아서 캐치하여, 부족한 리스트들은 뒤에 0을 패딩시켜줌\n"
      ]
    },
    {
      "cell_type": "code",
      "metadata": {
        "id": "yG5pm8_aFsI6",
        "colab": {
          "base_uri": "https://localhost:8080/"
        },
        "outputId": "b9d4257c-4e81-486e-ce57-89050d3d0357"
      },
      "source": [
        "padded_sequence = pad_sequence(X, batch_first=True) # X는 반드시 tensor의 리스트여야 함. 그냥 Tensor가 아님\n",
        "print(padded_sequence)\n",
        "print(padded_sequence.shape) # 배치 5가 가장 앞에 위치함"
      ],
      "execution_count": 66,
      "outputs": [
        {
          "output_type": "stream",
          "text": [
            "tensor([[10,  5, 13, 13, 15,  1, 12, 15,  6, 13, 14,  0,  0],\n",
            "        [ 7,  2, 14, 16,  2, 11, 10,  4,  0,  0,  0,  0,  0],\n",
            "        [17,  3, 13, 17, 18, 13,  3,  4,  2, 15, 16,  0,  0],\n",
            "        [ 8,  3,  4, 10,  0,  0,  0,  0,  0,  0,  0,  0,  0],\n",
            "        [ 9, 10, 15,  6,  4,  1, 17,  2,  6, 17, 18,  2,  4]])\n",
            "torch.Size([5, 13])\n"
          ],
          "name": "stdout"
        }
      ]
    },
    {
      "cell_type": "markdown",
      "metadata": {
        "id": "BLu1c8KIAfqM"
      },
      "source": [
        "##PackedSequence\n",
        "\n",
        "패딩 토큰을 추가해서 최대 길이에 맞게 텐서 리스트를 만드는게 아니고,\n",
        "\n",
        "패딩을 추가하지 않고 정확히 주어진 시퀀스 길이까지만 모델이 연산 하게끔 만드는 파이토치 자료구조이다. 즉 pad 토큰을 연산하는 자원 낭비를 막을 수 있다.\n",
        "\n",
        "다만 조건이 있는데, 주어지는 list of Tensor는 길이에 따른 내림차순 정렬로 되어 있어야 함"
      ]
    },
    {
      "cell_type": "code",
      "metadata": {
        "id": "45kM2cYi_fUl"
      },
      "source": [
        "# 0~4까지 범주의 숫자를 정렬하는데, 내림 차순 정렬을 할꺼고, 기준은 lengths.__getitem__이다\n",
        "# lengths.__getitem__은 lengths 리스트가 가지고 있는 깂들의 인덱스를 돌려준다.\n",
        "sorted_idx = sorted(range(5), key=lengths.__getitem__, reverse=True)"
      ],
      "execution_count": 71,
      "outputs": []
    },
    {
      "cell_type": "code",
      "metadata": {
        "colab": {
          "base_uri": "https://localhost:8080/"
        },
        "id": "3mFI6DEUBcdR",
        "outputId": "c4bfb463-d4fd-4741-9c43-18cba9272dc5"
      },
      "source": [
        "lengths\n",
        "# 0  1  2  3  4\n",
        "#11  8 11  4  13\n",
        "\n",
        "# 내림차순 정렬하면 \n",
        "#    13  11  11  8  4\n",
        "#idx 4   0   2   1  3"
      ],
      "execution_count": 72,
      "outputs": [
        {
          "output_type": "execute_result",
          "data": {
            "text/plain": [
              "[11, 8, 11, 4, 13]"
            ]
          },
          "metadata": {
            "tags": []
          },
          "execution_count": 72
        }
      ]
    },
    {
      "cell_type": "code",
      "metadata": {
        "colab": {
          "base_uri": "https://localhost:8080/"
        },
        "id": "KvLDokqRB0Mb",
        "outputId": "a942e1bd-fad1-469a-ce70-6d056f0de3ec"
      },
      "source": [
        "# X[0] X[1] X[2] X[3] X[4]들 중에서 길이 내림차순으로 정렬 후 담아놓은 idx 리스트\n",
        "sorted_idx"
      ],
      "execution_count": 73,
      "outputs": [
        {
          "output_type": "execute_result",
          "data": {
            "text/plain": [
              "[4, 0, 2, 1, 3]"
            ]
          },
          "metadata": {
            "tags": []
          },
          "execution_count": 73
        }
      ]
    },
    {
      "cell_type": "code",
      "metadata": {
        "id": "q_L3lxyy1EPf"
      },
      "source": [
        "sorted_X = [X[idx] for idx in sorted_idx]"
      ],
      "execution_count": 77,
      "outputs": []
    },
    {
      "cell_type": "code",
      "metadata": {
        "colab": {
          "base_uri": "https://localhost:8080/"
        },
        "id": "76iFllvU41Nn",
        "outputId": "d6f9bb95-0b37-4536-ac76-e4cf23c7c989"
      },
      "source": [
        "sorted_X"
      ],
      "execution_count": 78,
      "outputs": [
        {
          "output_type": "execute_result",
          "data": {
            "text/plain": [
              "[tensor([ 9, 10, 15,  6,  4,  1, 17,  2,  6, 17, 18,  2,  4]),\n",
              " tensor([10,  5, 13, 13, 15,  1, 12, 15,  6, 13, 14]),\n",
              " tensor([17,  3, 13, 17, 18, 13,  3,  4,  2, 15, 16]),\n",
              " tensor([ 7,  2, 14, 16,  2, 11, 10,  4]),\n",
              " tensor([ 8,  3,  4, 10])]"
            ]
          },
          "metadata": {
            "tags": []
          },
          "execution_count": 78
        }
      ]
    },
    {
      "cell_type": "code",
      "metadata": {
        "colab": {
          "base_uri": "https://localhost:8080/"
        },
        "id": "uMIAUyvR449J",
        "outputId": "644375e1-becd-4f65-f4b7-77e75b435fb0"
      },
      "source": [
        "packed_sequence = pack_sequence(sorted_X)\n",
        "print(packed_sequence) # 위 2차원 텐서를 column 기준으로 세로로 읽으면 된다."
      ],
      "execution_count": 124,
      "outputs": [
        {
          "output_type": "stream",
          "text": [
            "PackedSequence(data=tensor([ 9, 10, 17,  7,  8, 10,  5,  3,  2,  3, 15, 13, 13, 14,  4,  6, 13, 17,\n",
            "        16, 10,  4, 15, 18,  2,  1,  1, 13, 11, 17, 12,  3, 10,  2, 15,  4,  4,\n",
            "         6,  6,  2, 17, 13, 15, 18, 14, 16,  2,  4]), batch_sizes=tensor([5, 5, 5, 5, 4, 4, 4, 4, 3, 3, 3, 1, 1]), sorted_indices=None, unsorted_indices=None)\n"
          ],
          "name": "stdout"
        }
      ]
    },
    {
      "cell_type": "code",
      "metadata": {
        "colab": {
          "base_uri": "https://localhost:8080/"
        },
        "id": "sRAb9V0_5PfW",
        "outputId": "87e64e82-b084-4f83-c7d5-0dab8ff7e691"
      },
      "source": [
        "#단위 행렬 만드는 함수\n",
        "eye = torch.eye(5)\n",
        "eye"
      ],
      "execution_count": 93,
      "outputs": [
        {
          "output_type": "execute_result",
          "data": {
            "text/plain": [
              "tensor([[1., 0., 0., 0., 0.],\n",
              "        [0., 1., 0., 0., 0.],\n",
              "        [0., 0., 1., 0., 0.],\n",
              "        [0., 0., 0., 1., 0.],\n",
              "        [0., 0., 0., 0., 1.]])"
            ]
          },
          "metadata": {
            "tags": []
          },
          "execution_count": 93
        }
      ]
    },
    {
      "cell_type": "code",
      "metadata": {
        "colab": {
          "base_uri": "https://localhost:8080/"
        },
        "id": "KCpsuYa06ZkE",
        "outputId": "38b49dfb-813d-4e9a-8e0e-1114515a828f"
      },
      "source": [
        "eye[[2,3,4]] #eye[2], eye[3], eye[4]를 뽑아온건데, 2,3,4의 원핫 인코딩 표현으로도 볼 수 있다"
      ],
      "execution_count": 102,
      "outputs": [
        {
          "output_type": "execute_result",
          "data": {
            "text/plain": [
              "tensor([[0., 0., 1., 0., 0.],\n",
              "        [0., 0., 0., 1., 0.],\n",
              "        [0., 0., 0., 0., 1.]])"
            ]
          },
          "metadata": {
            "tags": []
          },
          "execution_count": 102
        }
      ]
    },
    {
      "cell_type": "code",
      "metadata": {
        "id": "YqDPhqjz5r_c"
      },
      "source": [
        "#그럼 가지고 있는 char_set 길이만큼 공간을 단위행렬로 확보 한 다음에 원핫 인코딩을 만들어보자\n",
        "eye = torch.eye(len(char_set))"
      ],
      "execution_count": 104,
      "outputs": []
    },
    {
      "cell_type": "code",
      "metadata": {
        "colab": {
          "base_uri": "https://localhost:8080/"
        },
        "id": "QUrwUcOr_hIO",
        "outputId": "b87487ef-7bdc-4786-ab75-d0ff827d1874"
      },
      "source": [
        "padded_sequence"
      ],
      "execution_count": 105,
      "outputs": [
        {
          "output_type": "execute_result",
          "data": {
            "text/plain": [
              "tensor([[10,  5, 13, 13, 15,  1, 12, 15,  6, 13, 14,  0,  0],\n",
              "        [ 7,  2, 14, 16,  2, 11, 10,  4,  0,  0,  0,  0,  0],\n",
              "        [17,  3, 13, 17, 18, 13,  3,  4,  2, 15, 16,  0,  0],\n",
              "        [ 8,  3,  4, 10,  0,  0,  0,  0,  0,  0,  0,  0,  0],\n",
              "        [ 9, 10, 15,  6,  4,  1, 17,  2,  6, 17, 18,  2,  4]])"
            ]
          },
          "metadata": {
            "tags": []
          },
          "execution_count": 105
        }
      ]
    },
    {
      "cell_type": "code",
      "metadata": {
        "id": "IbDjfH5u6CqE"
      },
      "source": [
        "embedded_tensor = eye[padded_sequence]"
      ],
      "execution_count": 106,
      "outputs": []
    },
    {
      "cell_type": "code",
      "metadata": {
        "colab": {
          "base_uri": "https://localhost:8080/"
        },
        "id": "k0lbqQM26tnP",
        "outputId": "f1f0febc-a71d-4b9c-9729-be51a9a31add"
      },
      "source": [
        "embedded_tensor[0] # 10, 5, 13, 13, 15 , 1, 12, 15, 6, 13, 14, 0, 0"
      ],
      "execution_count": 109,
      "outputs": [
        {
          "output_type": "execute_result",
          "data": {
            "text/plain": [
              "tensor([[0., 0., 0., 0., 0., 0., 0., 0., 0., 0., 1., 0., 0., 0., 0., 0., 0., 0.,\n",
              "         0.],\n",
              "        [0., 0., 0., 0., 0., 1., 0., 0., 0., 0., 0., 0., 0., 0., 0., 0., 0., 0.,\n",
              "         0.],\n",
              "        [0., 0., 0., 0., 0., 0., 0., 0., 0., 0., 0., 0., 0., 1., 0., 0., 0., 0.,\n",
              "         0.],\n",
              "        [0., 0., 0., 0., 0., 0., 0., 0., 0., 0., 0., 0., 0., 1., 0., 0., 0., 0.,\n",
              "         0.],\n",
              "        [0., 0., 0., 0., 0., 0., 0., 0., 0., 0., 0., 0., 0., 0., 0., 1., 0., 0.,\n",
              "         0.],\n",
              "        [0., 1., 0., 0., 0., 0., 0., 0., 0., 0., 0., 0., 0., 0., 0., 0., 0., 0.,\n",
              "         0.],\n",
              "        [0., 0., 0., 0., 0., 0., 0., 0., 0., 0., 0., 0., 1., 0., 0., 0., 0., 0.,\n",
              "         0.],\n",
              "        [0., 0., 0., 0., 0., 0., 0., 0., 0., 0., 0., 0., 0., 0., 0., 1., 0., 0.,\n",
              "         0.],\n",
              "        [0., 0., 0., 0., 0., 0., 1., 0., 0., 0., 0., 0., 0., 0., 0., 0., 0., 0.,\n",
              "         0.],\n",
              "        [0., 0., 0., 0., 0., 0., 0., 0., 0., 0., 0., 0., 0., 1., 0., 0., 0., 0.,\n",
              "         0.],\n",
              "        [0., 0., 0., 0., 0., 0., 0., 0., 0., 0., 0., 0., 0., 0., 1., 0., 0., 0.,\n",
              "         0.],\n",
              "        [1., 0., 0., 0., 0., 0., 0., 0., 0., 0., 0., 0., 0., 0., 0., 0., 0., 0.,\n",
              "         0.],\n",
              "        [1., 0., 0., 0., 0., 0., 0., 0., 0., 0., 0., 0., 0., 0., 0., 0., 0., 0.,\n",
              "         0.]])"
            ]
          },
          "metadata": {
            "tags": []
          },
          "execution_count": 109
        }
      ]
    },
    {
      "cell_type": "code",
      "metadata": {
        "colab": {
          "base_uri": "https://localhost:8080/"
        },
        "id": "AKRQx31QBgYs",
        "outputId": "b83f8ecd-5e4e-4038-83db-b12eb6f68210"
      },
      "source": [
        "embedded_tensor.shape #(batch_size, max_sequence, number_of_input_tokens)"
      ],
      "execution_count": 111,
      "outputs": [
        {
          "output_type": "execute_result",
          "data": {
            "text/plain": [
              "torch.Size([5, 13, 19])"
            ]
          },
          "metadata": {
            "tags": []
          },
          "execution_count": 111
        }
      ]
    },
    {
      "cell_type": "code",
      "metadata": {
        "colab": {
          "base_uri": "https://localhost:8080/"
        },
        "id": "2d6ml97bBz05",
        "outputId": "04e68cd7-4fcd-4b62-807d-2c94357ec45e"
      },
      "source": [
        "sorted_idx"
      ],
      "execution_count": 112,
      "outputs": [
        {
          "output_type": "execute_result",
          "data": {
            "text/plain": [
              "[4, 0, 2, 1, 3]"
            ]
          },
          "metadata": {
            "tags": []
          },
          "execution_count": 112
        }
      ]
    },
    {
      "cell_type": "code",
      "metadata": {
        "colab": {
          "base_uri": "https://localhost:8080/"
        },
        "id": "Io3pRJaTCXDt",
        "outputId": "ebb8d41e-1731-4496-e620-639ea1e6e821"
      },
      "source": [
        "# one-hot embedding using PackedSequence\n",
        "embedded_packed_seq = pack_sequence([eye[X[idx]] for idx in sorted_idx])\n",
        "embedded_packed_seq.data.shape"
      ],
      "execution_count": 115,
      "outputs": [
        {
          "output_type": "execute_result",
          "data": {
            "text/plain": [
              "torch.Size([47, 19])"
            ]
          },
          "metadata": {
            "tags": []
          },
          "execution_count": 115
        }
      ]
    },
    {
      "cell_type": "code",
      "metadata": {
        "id": "pxgamf1TCnxa"
      },
      "source": [
        "rnn = torch.nn.RNN(input_size=len(char_set), hidden_size=30, batch_first=True)"
      ],
      "execution_count": 116,
      "outputs": []
    },
    {
      "cell_type": "markdown",
      "metadata": {
        "id": "-p28Tdp_FQ4V"
      },
      "source": [
        "Padded Sequence 데이터 넣어보기"
      ]
    },
    {
      "cell_type": "code",
      "metadata": {
        "colab": {
          "base_uri": "https://localhost:8080/"
        },
        "id": "7QT9qtZ2DAAq",
        "outputId": "9e785a59-7392-4a02-c3b9-6f0876076e7a"
      },
      "source": [
        "rnn_output, hidden = rnn(embedded_tensor)\n",
        "print(rnn_output.shape)\n",
        "print(hidden.shape)"
      ],
      "execution_count": 126,
      "outputs": [
        {
          "output_type": "stream",
          "text": [
            "torch.Size([5, 13, 30])\n",
            "torch.Size([1, 5, 30])\n"
          ],
          "name": "stdout"
        }
      ]
    },
    {
      "cell_type": "markdown",
      "metadata": {
        "id": "f9NFbMqtFoLG"
      },
      "source": [
        "Packed Sequence 데이터 넣어보기"
      ]
    },
    {
      "cell_type": "code",
      "metadata": {
        "colab": {
          "base_uri": "https://localhost:8080/"
        },
        "id": "slTCH3o7DBld",
        "outputId": "8e3eddb2-cbaa-4b01-de95-ffd3395924fe"
      },
      "source": [
        "rnn_output, hidden = rnn(embedded_packed_seq)\n",
        "print(rnn_output.data.shape)\n",
        "print(hidden.data.shape)"
      ],
      "execution_count": 127,
      "outputs": [
        {
          "output_type": "stream",
          "text": [
            "torch.Size([47, 30])\n",
            "torch.Size([1, 5, 30])\n"
          ],
          "name": "stdout"
        }
      ]
    }
  ]
}