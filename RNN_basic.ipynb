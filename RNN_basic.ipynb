{
  "nbformat": 4,
  "nbformat_minor": 0,
  "metadata": {
    "colab": {
      "name": "RNN_basic.ipynb",
      "provenance": [],
      "authorship_tag": "ABX9TyO1BR7tE57aBopoLf7DQGdY",
      "include_colab_link": true
    },
    "kernelspec": {
      "name": "python3",
      "display_name": "Python 3"
    }
  },
  "cells": [
    {
      "cell_type": "markdown",
      "metadata": {
        "id": "view-in-github",
        "colab_type": "text"
      },
      "source": [
        "<a href=\"https://colab.research.google.com/github/RogerHeederer/ForAllPytorch/blob/main/RNN_basic.ipynb\" target=\"_parent\"><img src=\"https://colab.research.google.com/assets/colab-badge.svg\" alt=\"Open In Colab\"/></a>"
      ]
    },
    {
      "cell_type": "code",
      "metadata": {
        "id": "bY1xiYCdF2Ap"
      },
      "source": [
        "import torch\n",
        "import numpy as np"
      ],
      "execution_count": 1,
      "outputs": []
    },
    {
      "cell_type": "code",
      "metadata": {
        "colab": {
          "base_uri": "https://localhost:8080/"
        },
        "id": "gX9RxgI1GfPq",
        "outputId": "8fece69a-c138-4198-91e1-b59da659e478"
      },
      "source": [
        "torch.manual_seed(0)"
      ],
      "execution_count": 2,
      "outputs": [
        {
          "output_type": "execute_result",
          "data": {
            "text/plain": [
              "<torch._C.Generator at 0x7f86277e4b58>"
            ]
          },
          "metadata": {
            "tags": []
          },
          "execution_count": 2
        }
      ]
    },
    {
      "cell_type": "code",
      "metadata": {
        "id": "U6iq6VSNGiOX"
      },
      "source": [
        "# 차원 설정\n",
        "input_size = 4 # 캐릭터 한개 당 4 개의 숫자들로 구성되어 있으므로 4차원 input_size가 필요\n",
        "hidden_size = 2 #히든 사이즈는 입력으로 들어온 4차원 size를, 2차원 size로 만들어 결과를 내겠다는 의미\n",
        "#히든 스테이트는 RNN 셀을 거쳐 나온 결과물(2차원 size)을 숨겨진 상태로 다음 턴 인풋에 넣어주는 값이라 한다"
      ],
      "execution_count": 9,
      "outputs": []
    },
    {
      "cell_type": "code",
      "metadata": {
        "id": "0VmzfQWjGpOp"
      },
      "source": [
        "h = [1, 0, 0, 0]\n",
        "e = [0, 1, 0, 0]\n",
        "l = [0, 0, 1, 0]\n",
        "o = [0, 0, 0, 1]\n",
        "\n",
        "input_data_np = np.array([[h, e, l, l, o],\n",
        "                          [e, l, l, o, h],\n",
        "                          [l, l, o, h, e]],dtype=np.float32)\n",
        "\n",
        "#      3  x     5     x 4 의 형태를 지님\n",
        "# 배치사이즈 x 시퀀스 길이 x 캐릭터 차원\n",
        "# [ \n",
        "#   [[1,0,0,0],[0,1,0,0],[0,0,1,0],[0,0,1,0],[0,0,0,1]],\n",
        "#   [[0,1,0,0],[0,0,1,0],[0,0,1,0],[0,0,0,1],[1,0,0,0]],\n",
        "#   [[0,0,1,0],[0,0,1,0],[0,0,0,1],[1,0,0,0],[0,1,0,0]]\n",
        "# ]\n",
        "\n",
        "# [h,e,l,l,o]\n",
        "# [e,l,l,o,h]\n",
        "# [l,l,o,h,e]\n",
        "# 이 3개의 문장을 하나의 배치로 묶어서 한번에 넣는다 =  배치 사이즈"
      ],
      "execution_count": 4,
      "outputs": []
    },
    {
      "cell_type": "code",
      "metadata": {
        "colab": {
          "base_uri": "https://localhost:8080/"
        },
        "id": "H977dBELIrML",
        "outputId": "f161c3e3-d00b-40c4-a314-3813249a97f2"
      },
      "source": [
        "input_data_np"
      ],
      "execution_count": 5,
      "outputs": [
        {
          "output_type": "execute_result",
          "data": {
            "text/plain": [
              "array([[[1., 0., 0., 0.],\n",
              "        [0., 1., 0., 0.],\n",
              "        [0., 0., 1., 0.],\n",
              "        [0., 0., 1., 0.],\n",
              "        [0., 0., 0., 1.]],\n",
              "\n",
              "       [[0., 1., 0., 0.],\n",
              "        [0., 0., 1., 0.],\n",
              "        [0., 0., 1., 0.],\n",
              "        [0., 0., 0., 1.],\n",
              "        [1., 0., 0., 0.]],\n",
              "\n",
              "       [[0., 0., 1., 0.],\n",
              "        [0., 0., 1., 0.],\n",
              "        [0., 0., 0., 1.],\n",
              "        [1., 0., 0., 0.],\n",
              "        [0., 1., 0., 0.]]], dtype=float32)"
            ]
          },
          "metadata": {
            "tags": []
          },
          "execution_count": 5
        }
      ]
    },
    {
      "cell_type": "code",
      "metadata": {
        "id": "hnxl5o0yIsYY"
      },
      "source": [
        "#넘파이 배열로 만든것을 토치 텐서 형태로 변환\n",
        "#RNN 모델에 넣어주기 위해서는 토치 텐서로 변환해야 한다.\n",
        "input_data = torch.Tensor(input_data_np)"
      ],
      "execution_count": 6,
      "outputs": []
    },
    {
      "cell_type": "code",
      "metadata": {
        "colab": {
          "base_uri": "https://localhost:8080/"
        },
        "id": "c1weKCAAI9Fv",
        "outputId": "ff517e5c-9786-46cb-cb5a-53b1d943a543"
      },
      "source": [
        "input_data #array -> tensor로 변경된 것을 확인"
      ],
      "execution_count": 7,
      "outputs": [
        {
          "output_type": "execute_result",
          "data": {
            "text/plain": [
              "tensor([[[1., 0., 0., 0.],\n",
              "         [0., 1., 0., 0.],\n",
              "         [0., 0., 1., 0.],\n",
              "         [0., 0., 1., 0.],\n",
              "         [0., 0., 0., 1.]],\n",
              "\n",
              "        [[0., 1., 0., 0.],\n",
              "         [0., 0., 1., 0.],\n",
              "         [0., 0., 1., 0.],\n",
              "         [0., 0., 0., 1.],\n",
              "         [1., 0., 0., 0.]],\n",
              "\n",
              "        [[0., 0., 1., 0.],\n",
              "         [0., 0., 1., 0.],\n",
              "         [0., 0., 0., 1.],\n",
              "         [1., 0., 0., 0.],\n",
              "         [0., 1., 0., 0.]]])"
            ]
          },
          "metadata": {
            "tags": []
          },
          "execution_count": 7
        }
      ]
    },
    {
      "cell_type": "code",
      "metadata": {
        "colab": {
          "base_uri": "https://localhost:8080/"
        },
        "id": "Vmr_qR3IJsDo",
        "outputId": "3178c1ad-5676-44f9-a619-c2d1aa12c7ae"
      },
      "source": [
        "print(input_data.size())"
      ],
      "execution_count": 16,
      "outputs": [
        {
          "output_type": "stream",
          "text": [
            "torch.Size([3, 5, 4])\n"
          ],
          "name": "stdout"
        }
      ]
    },
    {
      "cell_type": "code",
      "metadata": {
        "id": "EgeehjV7I-Cr"
      },
      "source": [
        "# RNN 모델 선언\n",
        "# input_size(캐릭터 차원)만 잘 선언해주면, 배치사이즈(3), 시퀀시 길이(5)는 파이토치가 알아서 파악해준다\n",
        "# output의 배치사이즈 및 시퀀스 길이 또한 input의 조건에 맞춰서 모델이 자동 파악\n",
        "rnn = torch.nn.RNN(input_size, hidden_size)"
      ],
      "execution_count": 10,
      "outputs": []
    },
    {
      "cell_type": "code",
      "metadata": {
        "colab": {
          "base_uri": "https://localhost:8080/"
        },
        "id": "eXYSCooKJIqb",
        "outputId": "df983ae0-c66a-4c74-c10b-c58fee9b43d5"
      },
      "source": [
        "rnn"
      ],
      "execution_count": 11,
      "outputs": [
        {
          "output_type": "execute_result",
          "data": {
            "text/plain": [
              "RNN(4, 2)"
            ]
          },
          "metadata": {
            "tags": []
          },
          "execution_count": 11
        }
      ]
    },
    {
      "cell_type": "code",
      "metadata": {
        "colab": {
          "base_uri": "https://localhost:8080/"
        },
        "id": "_EP5WqrsJMaD",
        "outputId": "c099c05a-36bf-4db2-c04e-21c18faba368"
      },
      "source": [
        "outputs, _status = rnn(input_data) #아웃풋과 현재 상태값을 전달해줌\n",
        "print(outputs)\n",
        "print(outputs.size())"
      ],
      "execution_count": 15,
      "outputs": [
        {
          "output_type": "stream",
          "text": [
            "tensor([[[-0.7497, -0.6135],\n",
            "         [-0.5282, -0.2473],\n",
            "         [-0.9136, -0.4269],\n",
            "         [-0.9136, -0.4269],\n",
            "         [-0.9028,  0.1180]],\n",
            "\n",
            "        [[-0.5753, -0.0070],\n",
            "         [-0.9158, -0.2994],\n",
            "         [-0.9173, -0.1989],\n",
            "         [-0.9069,  0.3567],\n",
            "         [-0.7132, -0.4914]],\n",
            "\n",
            "        [[-0.9077, -0.3205],\n",
            "         [-0.9134, -0.2154],\n",
            "         [-0.8990,  0.3294],\n",
            "         [-0.6904, -0.5155],\n",
            "         [-0.5614, -0.0318]]], grad_fn=<StackBackward>)\n",
            "torch.Size([3, 5, 2])\n"
          ],
          "name": "stdout"
        }
      ]
    },
    {
      "cell_type": "code",
      "metadata": {
        "id": "k_k-yCnHJXT5"
      },
      "source": [
        ""
      ],
      "execution_count": null,
      "outputs": []
    }
  ]
}