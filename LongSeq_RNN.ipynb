{
  "nbformat": 4,
  "nbformat_minor": 0,
  "metadata": {
    "colab": {
      "name": "long.ipynb",
      "provenance": [],
      "authorship_tag": "ABX9TyPPctZGOZchrzxcRw6CS8Ba",
      "include_colab_link": true
    },
    "kernelspec": {
      "name": "python3",
      "display_name": "Python 3"
    }
  },
  "cells": [
    {
      "cell_type": "markdown",
      "metadata": {
        "id": "view-in-github",
        "colab_type": "text"
      },
      "source": [
        "<a href=\"https://colab.research.google.com/github/RogerHeederer/ForAllPytorch/blob/main/LongSeq_RNN.ipynb\" target=\"_parent\"><img src=\"https://colab.research.google.com/assets/colab-badge.svg\" alt=\"Open In Colab\"/></a>"
      ]
    },
    {
      "cell_type": "code",
      "metadata": {
        "id": "MFDlNEjWyRld"
      },
      "source": [
        "import torch\n",
        "import torch.optim as optim\n",
        "import numpy as np"
      ],
      "execution_count": 1,
      "outputs": []
    },
    {
      "cell_type": "code",
      "metadata": {
        "colab": {
          "base_uri": "https://localhost:8080/"
        },
        "id": "-FK6x-_hyimZ",
        "outputId": "1f79fa7d-9bb7-4f34-a8b7-3783cb7b0dba"
      },
      "source": [
        "torch.manual_seed(0)"
      ],
      "execution_count": 2,
      "outputs": [
        {
          "output_type": "execute_result",
          "data": {
            "text/plain": [
              "<torch._C.Generator at 0x7f791ece8b70>"
            ]
          },
          "metadata": {
            "tags": []
          },
          "execution_count": 2
        }
      ]
    },
    {
      "cell_type": "code",
      "metadata": {
        "id": "DYQIU3bXykt-"
      },
      "source": [
        "sentence = (\"if you want to build a ship, don't drum up people together to \"\n",
        "            \"collect wood and don't assign them tasks and work, but rather \"\n",
        "            \"teach them to long for the endless immensity of the sea.\")"
      ],
      "execution_count": 3,
      "outputs": []
    },
    {
      "cell_type": "code",
      "metadata": {
        "colab": {
          "base_uri": "https://localhost:8080/"
        },
        "id": "wo0C7u_YynYi",
        "outputId": "d8beae8e-9fe3-4fcc-e07c-d8b9e1aea2aa"
      },
      "source": [
        "#문장에서 중복된 character 제거 후 단일 세트 만들기\n",
        "char_set = list(set(sentence))\n",
        "char_set"
      ],
      "execution_count": 6,
      "outputs": [
        {
          "output_type": "execute_result",
          "data": {
            "text/plain": [
              "['b',\n",
              " 'u',\n",
              " 'l',\n",
              " 'y',\n",
              " 's',\n",
              " ' ',\n",
              " ',',\n",
              " 'e',\n",
              " 'f',\n",
              " 'k',\n",
              " 'r',\n",
              " 'd',\n",
              " 'a',\n",
              " 'c',\n",
              " '.',\n",
              " 'o',\n",
              " 'i',\n",
              " 'h',\n",
              " \"'\",\n",
              " 'n',\n",
              " 't',\n",
              " 'm',\n",
              " 'p',\n",
              " 'w',\n",
              " 'g']"
            ]
          },
          "metadata": {
            "tags": []
          },
          "execution_count": 6
        }
      ]
    },
    {
      "cell_type": "code",
      "metadata": {
        "colab": {
          "base_uri": "https://localhost:8080/"
        },
        "id": "agfPpqUqyxXM",
        "outputId": "1b8c681b-6386-43c6-adc3-bdcf08a25528"
      },
      "source": [
        "#단어 집합 만들기\n",
        "char_dic = {c: i for i, c in enumerate(char_set)}\n",
        "char_dic"
      ],
      "execution_count": 8,
      "outputs": [
        {
          "output_type": "execute_result",
          "data": {
            "text/plain": [
              "{' ': 5,\n",
              " \"'\": 18,\n",
              " ',': 6,\n",
              " '.': 14,\n",
              " 'a': 12,\n",
              " 'b': 0,\n",
              " 'c': 13,\n",
              " 'd': 11,\n",
              " 'e': 7,\n",
              " 'f': 8,\n",
              " 'g': 24,\n",
              " 'h': 17,\n",
              " 'i': 16,\n",
              " 'k': 9,\n",
              " 'l': 2,\n",
              " 'm': 21,\n",
              " 'n': 19,\n",
              " 'o': 15,\n",
              " 'p': 22,\n",
              " 'r': 10,\n",
              " 's': 4,\n",
              " 't': 20,\n",
              " 'u': 1,\n",
              " 'w': 23,\n",
              " 'y': 3}"
            ]
          },
          "metadata": {
            "tags": []
          },
          "execution_count": 8
        }
      ]
    },
    {
      "cell_type": "code",
      "metadata": {
        "id": "8DWwEBotzK1I"
      },
      "source": [
        "dic_size = len(char_dic)\n",
        "hidden_size = len(char_dic)\n",
        "sequence_length = 10\n",
        "learning_rate = 0.1"
      ],
      "execution_count": 9,
      "outputs": []
    },
    {
      "cell_type": "code",
      "metadata": {
        "colab": {
          "base_uri": "https://localhost:8080/"
        },
        "id": "mAGViu39zorm",
        "outputId": "fb7aeb0e-e7c0-40bd-fb9f-d4fccd095022"
      },
      "source": [
        "dic_size"
      ],
      "execution_count": 10,
      "outputs": [
        {
          "output_type": "execute_result",
          "data": {
            "text/plain": [
              "25"
            ]
          },
          "metadata": {
            "tags": []
          },
          "execution_count": 10
        }
      ]
    },
    {
      "cell_type": "markdown",
      "metadata": {
        "id": "wk1PWMIOzuha"
      },
      "source": [
        "데이터 세팅 부분"
      ]
    },
    {
      "cell_type": "code",
      "metadata": {
        "colab": {
          "base_uri": "https://localhost:8080/"
        },
        "id": "7QYUYzzrzpfV",
        "outputId": "9d10925e-33a1-45b6-9cdb-2ef90f4e1d19"
      },
      "source": [
        "x_data = []\n",
        "y_data = []\n",
        "\n",
        "for i in range(0, len(sentence) - sequence_length):\n",
        "  x_str = sentence[i:i + sequence_length]\n",
        "  y_str = sentence[i+1: i + sequence_length + 1]\n",
        "  print(i, x_str, '->', y_str)\n",
        "\n",
        "  #정수 인코딩 수행 : char를 char_dic에서 만든 인덱스로 변형하여 정수 값으로 넣기 \n",
        "  x_data.append([char_dic[c] for c in x_str])\n",
        "  y_data.append([char_dic[c] for c in y_str])"
      ],
      "execution_count": 12,
      "outputs": [
        {
          "output_type": "stream",
          "text": [
            "0 if you wan -> f you want\n",
            "1 f you want ->  you want \n",
            "2  you want  -> you want t\n",
            "3 you want t -> ou want to\n",
            "4 ou want to -> u want to \n",
            "5 u want to  ->  want to b\n",
            "6  want to b -> want to bu\n",
            "7 want to bu -> ant to bui\n",
            "8 ant to bui -> nt to buil\n",
            "9 nt to buil -> t to build\n",
            "10 t to build ->  to build \n",
            "11  to build  -> to build a\n",
            "12 to build a -> o build a \n",
            "13 o build a  ->  build a s\n",
            "14  build a s -> build a sh\n",
            "15 build a sh -> uild a shi\n",
            "16 uild a shi -> ild a ship\n",
            "17 ild a ship -> ld a ship,\n",
            "18 ld a ship, -> d a ship, \n",
            "19 d a ship,  ->  a ship, d\n",
            "20  a ship, d -> a ship, do\n",
            "21 a ship, do ->  ship, don\n",
            "22  ship, don -> ship, don'\n",
            "23 ship, don' -> hip, don't\n",
            "24 hip, don't -> ip, don't \n",
            "25 ip, don't  -> p, don't d\n",
            "26 p, don't d -> , don't dr\n",
            "27 , don't dr ->  don't dru\n",
            "28  don't dru -> don't drum\n",
            "29 don't drum -> on't drum \n",
            "30 on't drum  -> n't drum u\n",
            "31 n't drum u -> 't drum up\n",
            "32 't drum up -> t drum up \n",
            "33 t drum up  ->  drum up p\n",
            "34  drum up p -> drum up pe\n",
            "35 drum up pe -> rum up peo\n",
            "36 rum up peo -> um up peop\n",
            "37 um up peop -> m up peopl\n",
            "38 m up peopl ->  up people\n",
            "39  up people -> up people \n",
            "40 up people  -> p people t\n",
            "41 p people t ->  people to\n",
            "42  people to -> people tog\n",
            "43 people tog -> eople toge\n",
            "44 eople toge -> ople toget\n",
            "45 ople toget -> ple togeth\n",
            "46 ple togeth -> le togethe\n",
            "47 le togethe -> e together\n",
            "48 e together ->  together \n",
            "49  together  -> together t\n",
            "50 together t -> ogether to\n",
            "51 ogether to -> gether to \n",
            "52 gether to  -> ether to c\n",
            "53 ether to c -> ther to co\n",
            "54 ther to co -> her to col\n",
            "55 her to col -> er to coll\n",
            "56 er to coll -> r to colle\n",
            "57 r to colle ->  to collec\n",
            "58  to collec -> to collect\n",
            "59 to collect -> o collect \n",
            "60 o collect  ->  collect w\n",
            "61  collect w -> collect wo\n",
            "62 collect wo -> ollect woo\n",
            "63 ollect woo -> llect wood\n",
            "64 llect wood -> lect wood \n",
            "65 lect wood  -> ect wood a\n",
            "66 ect wood a -> ct wood an\n",
            "67 ct wood an -> t wood and\n",
            "68 t wood and ->  wood and \n",
            "69  wood and  -> wood and d\n",
            "70 wood and d -> ood and do\n",
            "71 ood and do -> od and don\n",
            "72 od and don -> d and don'\n",
            "73 d and don' ->  and don't\n",
            "74  and don't -> and don't \n",
            "75 and don't  -> nd don't a\n",
            "76 nd don't a -> d don't as\n",
            "77 d don't as ->  don't ass\n",
            "78  don't ass -> don't assi\n",
            "79 don't assi -> on't assig\n",
            "80 on't assig -> n't assign\n",
            "81 n't assign -> 't assign \n",
            "82 't assign  -> t assign t\n",
            "83 t assign t ->  assign th\n",
            "84  assign th -> assign the\n",
            "85 assign the -> ssign them\n",
            "86 ssign them -> sign them \n",
            "87 sign them  -> ign them t\n",
            "88 ign them t -> gn them ta\n",
            "89 gn them ta -> n them tas\n",
            "90 n them tas ->  them task\n",
            "91  them task -> them tasks\n",
            "92 them tasks -> hem tasks \n",
            "93 hem tasks  -> em tasks a\n",
            "94 em tasks a -> m tasks an\n",
            "95 m tasks an ->  tasks and\n",
            "96  tasks and -> tasks and \n",
            "97 tasks and  -> asks and w\n",
            "98 asks and w -> sks and wo\n",
            "99 sks and wo -> ks and wor\n",
            "100 ks and wor -> s and work\n",
            "101 s and work ->  and work,\n",
            "102  and work, -> and work, \n",
            "103 and work,  -> nd work, b\n",
            "104 nd work, b -> d work, bu\n",
            "105 d work, bu ->  work, but\n",
            "106  work, but -> work, but \n",
            "107 work, but  -> ork, but r\n",
            "108 ork, but r -> rk, but ra\n",
            "109 rk, but ra -> k, but rat\n",
            "110 k, but rat -> , but rath\n",
            "111 , but rath ->  but rathe\n",
            "112  but rathe -> but rather\n",
            "113 but rather -> ut rather \n",
            "114 ut rather  -> t rather t\n",
            "115 t rather t ->  rather te\n",
            "116  rather te -> rather tea\n",
            "117 rather tea -> ather teac\n",
            "118 ather teac -> ther teach\n",
            "119 ther teach -> her teach \n",
            "120 her teach  -> er teach t\n",
            "121 er teach t -> r teach th\n",
            "122 r teach th ->  teach the\n",
            "123  teach the -> teach them\n",
            "124 teach them -> each them \n",
            "125 each them  -> ach them t\n",
            "126 ach them t -> ch them to\n",
            "127 ch them to -> h them to \n",
            "128 h them to  ->  them to l\n",
            "129  them to l -> them to lo\n",
            "130 them to lo -> hem to lon\n",
            "131 hem to lon -> em to long\n",
            "132 em to long -> m to long \n",
            "133 m to long  ->  to long f\n",
            "134  to long f -> to long fo\n",
            "135 to long fo -> o long for\n",
            "136 o long for ->  long for \n",
            "137  long for  -> long for t\n",
            "138 long for t -> ong for th\n",
            "139 ong for th -> ng for the\n",
            "140 ng for the -> g for the \n",
            "141 g for the  ->  for the e\n",
            "142  for the e -> for the en\n",
            "143 for the en -> or the end\n",
            "144 or the end -> r the endl\n",
            "145 r the endl ->  the endle\n",
            "146  the endle -> the endles\n",
            "147 the endles -> he endless\n",
            "148 he endless -> e endless \n",
            "149 e endless  ->  endless i\n",
            "150  endless i -> endless im\n",
            "151 endless im -> ndless imm\n",
            "152 ndless imm -> dless imme\n",
            "153 dless imme -> less immen\n",
            "154 less immen -> ess immens\n",
            "155 ess immens -> ss immensi\n",
            "156 ss immensi -> s immensit\n",
            "157 s immensit ->  immensity\n",
            "158  immensity -> immensity \n",
            "159 immensity  -> mmensity o\n",
            "160 mmensity o -> mensity of\n",
            "161 mensity of -> ensity of \n",
            "162 ensity of  -> nsity of t\n",
            "163 nsity of t -> sity of th\n",
            "164 sity of th -> ity of the\n",
            "165 ity of the -> ty of the \n",
            "166 ty of the  -> y of the s\n",
            "167 y of the s ->  of the se\n",
            "168  of the se -> of the sea\n",
            "169 of the sea -> f the sea.\n"
          ],
          "name": "stdout"
        }
      ]
    },
    {
      "cell_type": "code",
      "metadata": {
        "colab": {
          "base_uri": "https://localhost:8080/"
        },
        "id": "FRM8aAd07mef",
        "outputId": "4418b62d-9237-4514-de97-210e690555db"
      },
      "source": [
        "x_data[1]"
      ],
      "execution_count": 40,
      "outputs": [
        {
          "output_type": "execute_result",
          "data": {
            "text/plain": [
              "[8, 5, 3, 15, 1, 5, 23, 12, 19, 20]"
            ]
          },
          "metadata": {
            "tags": []
          },
          "execution_count": 40
        }
      ]
    },
    {
      "cell_type": "code",
      "metadata": {
        "colab": {
          "base_uri": "https://localhost:8080/"
        },
        "id": "NWhYtX5e7paE",
        "outputId": "20988faa-9d69-438d-b174-fce485074239"
      },
      "source": [
        "# 정답 데이터의 정수 값을 보면 1칸씩 밀려 있는 값들임을 확인\n",
        "y_data[1]"
      ],
      "execution_count": 14,
      "outputs": [
        {
          "output_type": "execute_result",
          "data": {
            "text/plain": [
              "[5, 3, 15, 1, 5, 23, 12, 19, 20, 5]"
            ]
          },
          "metadata": {
            "tags": []
          },
          "execution_count": 14
        }
      ]
    },
    {
      "cell_type": "code",
      "metadata": {
        "colab": {
          "base_uri": "https://localhost:8080/"
        },
        "id": "S-v7vA0H8RUU",
        "outputId": "e6914114-609c-4fc2-8dfe-ed373aa747c6"
      },
      "source": [
        "np.eye(dic_size)[3]"
      ],
      "execution_count": 16,
      "outputs": [
        {
          "output_type": "execute_result",
          "data": {
            "text/plain": [
              "array([0., 0., 0., 1., 0., 0., 0., 0., 0., 0., 0., 0., 0., 0., 0., 0., 0.,\n",
              "       0., 0., 0., 0., 0., 0., 0., 0.])"
            ]
          },
          "metadata": {
            "tags": []
          },
          "execution_count": 16
        }
      ]
    },
    {
      "cell_type": "code",
      "metadata": {
        "id": "COsr0oPH7qm4"
      },
      "source": [
        "# 정수 인코딩 값을 원핫인코딩에 반영\n",
        "x_one_hot = [np.eye(dic_size)[x] for x in x_data]"
      ],
      "execution_count": 17,
      "outputs": []
    },
    {
      "cell_type": "code",
      "metadata": {
        "colab": {
          "base_uri": "https://localhost:8080/"
        },
        "id": "bMRD9bZh8jgN",
        "outputId": "0c1a6fcc-41ed-485f-9347-ce05632537d2"
      },
      "source": [
        "x_one_hot[1] #인덱스에 위 정수값을 반영 [8, 5, 3, 15, 1, 6, 23, 12, 19, 20]"
      ],
      "execution_count": 20,
      "outputs": [
        {
          "output_type": "execute_result",
          "data": {
            "text/plain": [
              "array([[0., 0., 0., 0., 0., 0., 0., 0., 1., 0., 0., 0., 0., 0., 0., 0.,\n",
              "        0., 0., 0., 0., 0., 0., 0., 0., 0.],\n",
              "       [0., 0., 0., 0., 0., 1., 0., 0., 0., 0., 0., 0., 0., 0., 0., 0.,\n",
              "        0., 0., 0., 0., 0., 0., 0., 0., 0.],\n",
              "       [0., 0., 0., 1., 0., 0., 0., 0., 0., 0., 0., 0., 0., 0., 0., 0.,\n",
              "        0., 0., 0., 0., 0., 0., 0., 0., 0.],\n",
              "       [0., 0., 0., 0., 0., 0., 0., 0., 0., 0., 0., 0., 0., 0., 0., 1.,\n",
              "        0., 0., 0., 0., 0., 0., 0., 0., 0.],\n",
              "       [0., 1., 0., 0., 0., 0., 0., 0., 0., 0., 0., 0., 0., 0., 0., 0.,\n",
              "        0., 0., 0., 0., 0., 0., 0., 0., 0.],\n",
              "       [0., 0., 0., 0., 0., 1., 0., 0., 0., 0., 0., 0., 0., 0., 0., 0.,\n",
              "        0., 0., 0., 0., 0., 0., 0., 0., 0.],\n",
              "       [0., 0., 0., 0., 0., 0., 0., 0., 0., 0., 0., 0., 0., 0., 0., 0.,\n",
              "        0., 0., 0., 0., 0., 0., 0., 1., 0.],\n",
              "       [0., 0., 0., 0., 0., 0., 0., 0., 0., 0., 0., 0., 1., 0., 0., 0.,\n",
              "        0., 0., 0., 0., 0., 0., 0., 0., 0.],\n",
              "       [0., 0., 0., 0., 0., 0., 0., 0., 0., 0., 0., 0., 0., 0., 0., 0.,\n",
              "        0., 0., 0., 1., 0., 0., 0., 0., 0.],\n",
              "       [0., 0., 0., 0., 0., 0., 0., 0., 0., 0., 0., 0., 0., 0., 0., 0.,\n",
              "        0., 0., 0., 0., 1., 0., 0., 0., 0.]])"
            ]
          },
          "metadata": {
            "tags": []
          },
          "execution_count": 20
        }
      ]
    },
    {
      "cell_type": "markdown",
      "metadata": {
        "id": "OningHHxHJMv"
      },
      "source": [
        "# 데이터 X의 shape 변천사\n",
        "**(170,10) 형태의 텍스트 배열 --> (170,10) 형태의 정수인코딩 배열 --> (170,10,25) 형태의 원핫 인코딩 배열 --> (170,10,25) 형태의 파이토치 텐서**\n",
        "\n",
        "# 데이터 Y의 shape 변천사\n",
        "**(170,10) 형태의 텍스트 배열 --> (170,10) 형태의 정수인코딩 배열 --> (170,10) 형태의 파이토치 텐서**"
      ]
    },
    {
      "cell_type": "code",
      "metadata": {
        "id": "DH4ZtLQ1F1PA"
      },
      "source": [
        "# 데이터 X의 shape 변천사\n",
        "# (170,10) 형태의 텍스트 배열 --> (170,10) 형태의 정수인코딩 배열 --> 170,10,25 원핫 인코딩 배열 --> 170,10,25 형태의 파이토치 텐서\n"
      ],
      "execution_count": null,
      "outputs": []
    },
    {
      "cell_type": "code",
      "metadata": {
        "id": "mZ3GBf0E8kr7"
      },
      "source": [
        "# 파이토치 텐스로 변환\n",
        "X = torch.FloatTensor(x_one_hot)\n",
        "Y = torch.LongTensor(y_data)"
      ],
      "execution_count": 21,
      "outputs": []
    },
    {
      "cell_type": "code",
      "metadata": {
        "colab": {
          "base_uri": "https://localhost:8080/"
        },
        "id": "QD3iRc0rG_zE",
        "outputId": "958ed449-436d-41c3-bec3-82f538d090e6"
      },
      "source": [
        "X.shape, Y.shape"
      ],
      "execution_count": 67,
      "outputs": [
        {
          "output_type": "execute_result",
          "data": {
            "text/plain": [
              "(torch.Size([170, 10, 25]), torch.Size([170, 10]))"
            ]
          },
          "metadata": {
            "tags": []
          },
          "execution_count": 67
        }
      ]
    },
    {
      "cell_type": "code",
      "metadata": {
        "id": "N6FAlRW89rDG"
      },
      "source": [
        "# RNN + FC를 가진 클래스 정의\n",
        "class Net(torch.nn.Module):\n",
        "  def __init__(self, input_dim, hidden_dim, layers):\n",
        "    super(Net, self).__init__()\n",
        "    \n",
        "    #rnn 정의 / batch_first=True를 설정하면, 배치사이즈 차원이 제일 앞에 위치한 shape이 됨\n",
        "    self.rnn = torch.nn.RNN(input_dim, hidden_dim, num_layers=layers, batch_first=True)\n",
        "    #Fully Connected Layer 정의\n",
        "    self.fc = torch.nn.Linear(hidden_dim, hidden_dim, bias=True)\n",
        "\n",
        "  def forward(self, x):\n",
        "    x, _status = self.rnn(x)\n",
        "    x = self.fc(x)\n",
        "    return x"
      ],
      "execution_count": 22,
      "outputs": []
    },
    {
      "cell_type": "code",
      "metadata": {
        "id": "Tlmx0mXy_Fst"
      },
      "source": [
        "rnn_network = Net(dic_size, hidden_size, 2) # rnn 2층으로 쌓겠다"
      ],
      "execution_count": 23,
      "outputs": []
    },
    {
      "cell_type": "code",
      "metadata": {
        "colab": {
          "base_uri": "https://localhost:8080/"
        },
        "id": "8LhkTIUY_UMX",
        "outputId": "6c8cb839-29d8-4649-f14d-755ee37fd2e2"
      },
      "source": [
        "rnn_network"
      ],
      "execution_count": 24,
      "outputs": [
        {
          "output_type": "execute_result",
          "data": {
            "text/plain": [
              "Net(\n",
              "  (rnn): RNN(25, 25, num_layers=2, batch_first=True)\n",
              "  (fc): Linear(in_features=25, out_features=25, bias=True)\n",
              ")"
            ]
          },
          "metadata": {
            "tags": []
          },
          "execution_count": 24
        }
      ]
    },
    {
      "cell_type": "markdown",
      "metadata": {
        "id": "cNalGs4-Akco"
      },
      "source": [
        "모델을 만들었으니 임의의 값으로 테스트 먼저"
      ]
    },
    {
      "cell_type": "code",
      "metadata": {
        "colab": {
          "base_uri": "https://localhost:8080/"
        },
        "id": "N918C_pWAWDZ",
        "outputId": "503efbe2-a449-4d00-b2e2-c6f97f60ed43"
      },
      "source": [
        "X.size() # 배치사이즈 ,시퀀스길이, input차원"
      ],
      "execution_count": 32,
      "outputs": [
        {
          "output_type": "execute_result",
          "data": {
            "text/plain": [
              "torch.Size([170, 10, 25])"
            ]
          },
          "metadata": {
            "tags": []
          },
          "execution_count": 32
        }
      ]
    },
    {
      "cell_type": "code",
      "metadata": {
        "colab": {
          "base_uri": "https://localhost:8080/"
        },
        "id": "dK42RpZUA0bA",
        "outputId": "c999d5bb-f817-4dc6-d45e-4bb9d033cd9b"
      },
      "source": [
        "#위의 X 데이터 shape을 참조하여 임의 값 생성\n",
        "value = torch.rand(170, 10, 25)\n",
        "value[1] # 문장 길이 10. 문장을 구성하는 글자의 차원은 25"
      ],
      "execution_count": 81,
      "outputs": [
        {
          "output_type": "execute_result",
          "data": {
            "text/plain": [
              "tensor([[0.6319, 0.1413, 0.9725, 0.0826, 0.5798, 0.9984, 0.1246, 0.6208, 0.2113,\n",
              "         0.0807, 0.4378, 0.3538, 0.6501, 0.7687, 0.1639, 0.2726, 0.6752, 0.4234,\n",
              "         0.8159, 0.0748, 0.7863, 0.7280, 0.7366, 0.5348, 0.9089],\n",
              "        [0.9183, 0.9811, 0.0466, 0.0482, 0.7039, 0.1205, 0.2445, 0.4557, 0.7406,\n",
              "         0.5935, 0.1859, 0.8012, 0.4547, 0.4156, 0.6645, 0.1763, 0.3860, 0.8427,\n",
              "         0.2473, 0.6174, 0.3026, 0.1309, 0.1469, 0.8903, 0.1831],\n",
              "        [0.2724, 0.8042, 0.0177, 0.8872, 0.6853, 0.2934, 0.5483, 0.9031, 0.2997,\n",
              "         0.9385, 0.4509, 0.7898, 0.1136, 0.7522, 0.3219, 0.9387, 0.5594, 0.2351,\n",
              "         0.1547, 0.3037, 0.3920, 0.8514, 0.4068, 0.8223, 0.0439],\n",
              "        [0.3545, 0.5143, 0.8789, 0.8336, 0.3832, 0.9821, 0.7542, 0.8686, 0.5618,\n",
              "         0.7861, 0.5153, 0.8900, 0.6593, 0.5697, 0.6471, 0.3746, 0.4890, 0.3080,\n",
              "         0.2154, 0.3816, 0.5307, 0.7355, 0.3218, 0.6167, 0.8126],\n",
              "        [0.4535, 0.5754, 0.5059, 0.0666, 0.5856, 0.4105, 0.8526, 0.1180, 0.5760,\n",
              "         0.8900, 0.9090, 0.5464, 0.5485, 0.0065, 0.7824, 0.7623, 0.0161, 0.0236,\n",
              "         0.4349, 0.3181, 0.7404, 0.8683, 0.5153, 0.9236, 0.6801],\n",
              "        [0.0849, 0.4231, 0.8172, 0.0615, 0.9097, 0.3751, 0.0696, 0.9727, 0.6224,\n",
              "         0.0713, 0.4738, 0.0517, 0.1029, 0.4737, 0.6470, 0.9783, 0.5595, 0.1407,\n",
              "         0.0477, 0.0415, 0.6153, 0.4159, 0.9821, 0.3684, 0.4494],\n",
              "        [0.4312, 0.3706, 0.1349, 0.4304, 0.7013, 0.4824, 0.2363, 0.7624, 0.6564,\n",
              "         0.0532, 0.9177, 0.4922, 0.7974, 0.8705, 0.6243, 0.7166, 0.0150, 0.0382,\n",
              "         0.6784, 0.0501, 0.3649, 0.6602, 0.7260, 0.6866, 0.2325],\n",
              "        [0.5671, 0.5647, 0.4073, 0.0773, 0.8583, 0.5152, 0.6030, 0.6754, 0.6206,\n",
              "         0.4174, 0.9916, 0.5196, 0.5042, 0.4868, 0.8425, 0.6699, 0.7119, 0.7931,\n",
              "         0.7678, 0.9993, 0.5039, 0.2209, 0.7068, 0.7932, 0.5427],\n",
              "        [0.4303, 0.4510, 0.6175, 0.7959, 0.4211, 0.1537, 0.0448, 0.6864, 0.2352,\n",
              "         0.9066, 0.1130, 0.7434, 0.9120, 0.2902, 0.1269, 0.0589, 0.9442, 0.0817,\n",
              "         0.8387, 0.4468, 0.9719, 0.8252, 0.6064, 0.7946, 0.2459],\n",
              "        [0.4019, 0.4937, 0.9576, 0.0083, 0.9992, 0.2011, 0.0661, 0.8103, 0.6062,\n",
              "         0.3805, 0.8887, 0.5919, 0.8342, 0.8142, 0.7266, 0.0230, 0.0829, 0.3242,\n",
              "         0.4702, 0.0585, 0.9760, 0.9114, 0.9310, 0.3956, 0.7999]])"
            ]
          },
          "metadata": {
            "tags": []
          },
          "execution_count": 81
        }
      ]
    },
    {
      "cell_type": "code",
      "metadata": {
        "id": "CJ13cFInDID8"
      },
      "source": [
        "test_result = rnn_network(value)"
      ],
      "execution_count": 82,
      "outputs": []
    },
    {
      "cell_type": "code",
      "metadata": {
        "colab": {
          "base_uri": "https://localhost:8080/"
        },
        "id": "5jWIpp4HLarg",
        "outputId": "f8569a59-4ac9-4d20-f756-7e58c9a0b500"
      },
      "source": [
        "test_result"
      ],
      "execution_count": 83,
      "outputs": [
        {
          "output_type": "execute_result",
          "data": {
            "text/plain": [
              "tensor([[[-0.1816,  0.1516,  0.1394,  ..., -0.1032, -0.1000, -0.0405],\n",
              "         [-0.1374,  0.0852,  0.3739,  ..., -0.0565, -0.2179,  0.0639],\n",
              "         [-0.0991,  0.1674,  0.2009,  ...,  0.0045, -0.2253,  0.1084],\n",
              "         ...,\n",
              "         [-0.0606,  0.1541,  0.2712,  ..., -0.0177, -0.2871,  0.1366],\n",
              "         [-0.1072,  0.1249,  0.2799,  ..., -0.0640, -0.1948,  0.1612],\n",
              "         [-0.0179,  0.1779,  0.2790,  ..., -0.0841, -0.1108,  0.2271]],\n",
              "\n",
              "        [[-0.1575,  0.1724,  0.1162,  ...,  0.0073, -0.1330,  0.0377],\n",
              "         [-0.0283,  0.0463,  0.2468,  ...,  0.0121, -0.2710,  0.0362],\n",
              "         [-0.1886,  0.1132,  0.2927,  ..., -0.1286, -0.2644,  0.0482],\n",
              "         ...,\n",
              "         [-0.0596,  0.1222,  0.2078,  ...,  0.0847, -0.3082,  0.1075],\n",
              "         [-0.1312,  0.2438,  0.2759,  ...,  0.0074, -0.2029,  0.1387],\n",
              "         [-0.0204,  0.1308,  0.2714,  ...,  0.0716, -0.2846,  0.1519]],\n",
              "\n",
              "        [[-0.2415,  0.1713,  0.1982,  ...,  0.0033, -0.1817,  0.0085],\n",
              "         [-0.0517,  0.1317,  0.1492,  ...,  0.0463, -0.1400,  0.0342],\n",
              "         [-0.0285,  0.0381,  0.1946,  ...,  0.0945, -0.2448,  0.1313],\n",
              "         ...,\n",
              "         [-0.1565,  0.1926,  0.3411,  ..., -0.1017, -0.1662,  0.1796],\n",
              "         [-0.0939,  0.1019,  0.1509,  ...,  0.0216, -0.2695,  0.0536],\n",
              "         [-0.0448,  0.1430,  0.2636,  ..., -0.0194, -0.2274,  0.1801]],\n",
              "\n",
              "        ...,\n",
              "\n",
              "        [[-0.2334,  0.2354,  0.1677,  ..., -0.1068, -0.0954, -0.0042],\n",
              "         [-0.0070,  0.0549,  0.2210,  ...,  0.0260, -0.2020,  0.0492],\n",
              "         [-0.0115,  0.0453,  0.2520,  ...,  0.0239, -0.3602,  0.1532],\n",
              "         ...,\n",
              "         [-0.1265,  0.1746,  0.3345,  ..., -0.1002, -0.2354,  0.1673],\n",
              "         [-0.1134,  0.0900,  0.2874,  ...,  0.0787, -0.2744,  0.1259],\n",
              "         [-0.0035,  0.1483,  0.2691,  ..., -0.1236, -0.1337,  0.1663]],\n",
              "\n",
              "        [[-0.1857,  0.1111,  0.1373,  ...,  0.0634, -0.2781,  0.0015],\n",
              "         [-0.2844,  0.1345,  0.3365,  ..., -0.1989, -0.1858, -0.0761],\n",
              "         [-0.0870,  0.1029,  0.1856,  ..., -0.0679, -0.2243,  0.0058],\n",
              "         ...,\n",
              "         [-0.1199,  0.1147,  0.3098,  ..., -0.0850, -0.2190,  0.1651],\n",
              "         [-0.0685,  0.1481,  0.2936,  ...,  0.0067, -0.2388,  0.1675],\n",
              "         [-0.1116,  0.2279,  0.2488,  ...,  0.0024, -0.1937,  0.1377]],\n",
              "\n",
              "        [[-0.1517,  0.1430,  0.1394,  ..., -0.0558, -0.1195,  0.0355],\n",
              "         [-0.1111,  0.1223,  0.2872,  ..., -0.1076, -0.1445,  0.0228],\n",
              "         [-0.0119,  0.1053,  0.1811,  ...,  0.0567, -0.2926,  0.0935],\n",
              "         ...,\n",
              "         [-0.0369,  0.1546,  0.2915,  ...,  0.0561, -0.3022,  0.1307],\n",
              "         [-0.0943,  0.1749,  0.3064,  ..., -0.0294, -0.2162,  0.1549],\n",
              "         [-0.1137,  0.1688,  0.2788,  ...,  0.0172, -0.2058,  0.1426]]],\n",
              "       grad_fn=<AddBackward0>)"
            ]
          },
          "metadata": {
            "tags": []
          },
          "execution_count": 83
        }
      ]
    },
    {
      "cell_type": "code",
      "metadata": {
        "colab": {
          "base_uri": "https://localhost:8080/"
        },
        "id": "naC31zYELTuj",
        "outputId": "3554f72e-30b0-48e4-da0e-b0ccd4bd7b2a"
      },
      "source": [
        "test_result.shape"
      ],
      "execution_count": 84,
      "outputs": [
        {
          "output_type": "execute_result",
          "data": {
            "text/plain": [
              "torch.Size([170, 10, 25])"
            ]
          },
          "metadata": {
            "tags": []
          },
          "execution_count": 84
        }
      ]
    },
    {
      "cell_type": "code",
      "metadata": {
        "colab": {
          "base_uri": "https://localhost:8080/"
        },
        "id": "N-P1I_bZL008",
        "outputId": "03ed603f-de14-46bc-c5e3-1c8d114e50d1"
      },
      "source": [
        "test_result.argmax(dim=2)"
      ],
      "execution_count": 85,
      "outputs": [
        {
          "output_type": "execute_result",
          "data": {
            "text/plain": [
              "tensor([[13,  7, 13,  ..., 13,  7,  7],\n",
              "        [ 7, 13, 13,  ..., 13,  7,  7],\n",
              "        [ 7, 13, 13,  ...,  7, 13,  7],\n",
              "        ...,\n",
              "        [ 7,  7, 13,  ..., 13,  7, 13],\n",
              "        [13, 13, 13,  ...,  7,  7,  7],\n",
              "        [ 7,  7, 13,  ...,  7,  7,  7]])"
            ]
          },
          "metadata": {
            "tags": []
          },
          "execution_count": 85
        }
      ]
    },
    {
      "cell_type": "code",
      "metadata": {
        "colab": {
          "base_uri": "https://localhost:8080/"
        },
        "id": "J5dIQXCALdp2",
        "outputId": "51e46f3b-250b-4a88-ab79-ffe9b8136bb8"
      },
      "source": [
        "# 170개의 문장이 있음. 각 문장의 길이는 10임. 문장을 구성하는 하나의 글자 차원은 25임\n",
        "# argmax(dim=2)는 가장 안쪽 차원들 값 중 가장 큰 확률을 가진 값을 리턴하라\n",
        "# 즉 한 글자를 이루는 25차원 값들 중 가장 큰 값 하나만 남김\n",
        "# [[0.11,0.13,0.7,0.001.......0.03],[..25개..],[..25개..],[],[],[],[],[],[],[]]\n",
        "# 위 25개 차원 수 중에서 가장 큰 확률을 가지는 원소를 하나 뽑아서, 그 놈의 인덱스를 넣어줌\n",
        "# 가령 이렇게 되는 거임 [3, 1, 2, 14, 12, 7, 7, 9, 23, 24]\n",
        "# 그럼 남게 되는 거는, 170개의 문장. 각 문장의 길이는 10.\n",
        "test_result.argmax(dim=2).shape"
      ],
      "execution_count": 91,
      "outputs": [
        {
          "output_type": "execute_result",
          "data": {
            "text/plain": [
              "torch.Size([170, 10])"
            ]
          },
          "metadata": {
            "tags": []
          },
          "execution_count": 91
        }
      ]
    },
    {
      "cell_type": "markdown",
      "metadata": {
        "id": "DFtXRSgkH6kc"
      },
      "source": [
        "# 데이터 X의 shape 변천사\n",
        "**(170,10) 형태의 텍스트 배열 --> (170,10) 형태의 정수인코딩 배열 --> (170,10,25) 형태의 원핫 인코딩 배열 --> (170,10,25) 형태의 파이토치 텐서**\n",
        "\n",
        "# 데이터 Y의 shape 변천사\n",
        "**(170,10) 형태의 텍스트 배열 --> (170,10) 형태의 정수인코딩 배열 --> (170,10) 형태의 파이토치 텐서**"
      ]
    },
    {
      "cell_type": "code",
      "metadata": {
        "colab": {
          "base_uri": "https://localhost:8080/"
        },
        "id": "Th-G8hCSDxt1",
        "outputId": "9c0b56ae-9164-44ec-8f70-c02527a366c2"
      },
      "source": [
        "test_result.view(-1, dic_size).shape, Y.view(-1).shape\n",
        "#FC 레이어에 넣어주기 위해서 일자로 펴는 Flatten 작업\n",
        "#기존 (170, 10, 25) 형태를 -> (170*10, 25) 형태로 변환\n",
        "\n",
        "#한 글자에 25차원으로 이루어진 1700개 글자를, 1차원 정수 값으로 이루어진 1700개 글자와 비교하여 손실값을 계산하는 방식임"
      ],
      "execution_count": 94,
      "outputs": [
        {
          "output_type": "execute_result",
          "data": {
            "text/plain": [
              "(torch.Size([1700, 25]), torch.Size([1700]))"
            ]
          },
          "metadata": {
            "tags": []
          },
          "execution_count": 94
        }
      ]
    },
    {
      "cell_type": "code",
      "metadata": {
        "id": "bm7UK-Fn_WAi"
      },
      "source": [
        "_## 손실 함수 및 옵티마이저 정의\n",
        "criterion = torch.nn.CrossEntropyLoss() #멀티 카테고리를 분류할 때 사용하는 손실 함수\n",
        "optimizer = optim.Adam(rnn_network.parameters(), learning_rate)"
      ],
      "execution_count": 26,
      "outputs": []
    },
    {
      "cell_type": "code",
      "metadata": {
        "id": "Hhv9FoY3_myw"
      },
      "source": [
        "#훈련 시작\n",
        "for i in range(100):\n",
        "  optimizer.zero_grad()\n",
        "  outputs = rnn_network(X)\n",
        "  loss = criterion(outputs.view(-1, dic_size), Y.view(-1)) # 손실 값 측정\n",
        "  loss.backward() #backpropagation 수행\n",
        "  optimizer.step() #최적의 파라미터를 찾아가며 업데이트 함"
      ],
      "execution_count": 97,
      "outputs": []
    },
    {
      "cell_type": "code",
      "metadata": {
        "colab": {
          "base_uri": "https://localhost:8080/"
        },
        "id": "pUgzyZFAV5Ni",
        "outputId": "11e351b5-d492-4503-bb57-380b6ccc15f9"
      },
      "source": [
        "results = outputs.argmax(dim=2)\n",
        "results, results.shape"
      ],
      "execution_count": 100,
      "outputs": [
        {
          "output_type": "execute_result",
          "data": {
            "text/plain": [
              "(tensor([[ 2,  5,  3,  ..., 12, 19, 20],\n",
              "         [ 5,  3, 15,  ..., 19, 20,  5],\n",
              "         [20, 15,  1,  ..., 20,  5, 20],\n",
              "         ...,\n",
              "         [15, 15,  8,  ...,  5,  4,  7],\n",
              "         [20,  8,  5,  ...,  4,  7, 12],\n",
              "         [19,  5, 20,  ...,  7, 12, 13]]), torch.Size([170, 10]))"
            ]
          },
          "metadata": {
            "tags": []
          },
          "execution_count": 100
        }
      ]
    },
    {
      "cell_type": "code",
      "metadata": {
        "colab": {
          "base_uri": "https://localhost:8080/"
        },
        "id": "XAF2RAfnXs1s",
        "outputId": "d4646a2f-cac7-4176-87ef-f70f21245157"
      },
      "source": [
        "predict_str = \"\"\n",
        "for j, result in enumerate(results):\n",
        "    # print(i, j, ''.join([char_set[t] for t in result]), loss.item())\n",
        "    if j == 0:\n",
        "        predict_str += ''.join([char_set[t] for t in result])\n",
        "    else:\n",
        "        predict_str += char_set[result[-1]]\n",
        "\n",
        "print(predict_str)"
      ],
      "execution_count": 99,
      "outputs": [
        {
          "output_type": "stream",
          "text": [
            "l you want to build a ship, don't arum up people together to collect wood and don't assign them tosks and work, but rather teach them to long for the endless immensity of the seac\n"
          ],
          "name": "stdout"
        }
      ]
    },
    {
      "cell_type": "code",
      "metadata": {
        "id": "BsYj9m4MYMWz"
      },
      "source": [
        ""
      ],
      "execution_count": null,
      "outputs": []
    }
  ]
}