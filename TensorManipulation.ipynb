{
  "nbformat": 4,
  "nbformat_minor": 0,
  "metadata": {
    "colab": {
      "name": "TensorManipulation.ipynb",
      "provenance": [],
      "collapsed_sections": [],
      "authorship_tag": "ABX9TyOTlLGC/CFYFNHgJKYeyzrJ",
      "include_colab_link": true
    },
    "kernelspec": {
      "name": "python3",
      "display_name": "Python 3"
    }
  },
  "cells": [
    {
      "cell_type": "markdown",
      "metadata": {
        "id": "view-in-github",
        "colab_type": "text"
      },
      "source": [
        "<a href=\"https://colab.research.google.com/github/RogerHeederer/ForAllPytorch/blob/main/TensorManipulation.ipynb\" target=\"_parent\"><img src=\"https://colab.research.google.com/assets/colab-badge.svg\" alt=\"Open In Colab\"/></a>"
      ]
    },
    {
      "cell_type": "code",
      "metadata": {
        "id": "FUAtx-R498_r"
      },
      "source": [
        "import numpy as np\n",
        "import torch"
      ],
      "execution_count": 201,
      "outputs": []
    },
    {
      "cell_type": "code",
      "metadata": {
        "colab": {
          "base_uri": "https://localhost:8080/"
        },
        "id": "rMWEhBIwASnw",
        "outputId": "cdcf9d33-9353-4ce1-f09d-7d382d2f9ed1"
      },
      "source": [
        "t = np.array([0., 1., 2., 3., 4., 5., 6.])\n",
        "print(t)"
      ],
      "execution_count": 202,
      "outputs": [
        {
          "output_type": "stream",
          "text": [
            "[0. 1. 2. 3. 4. 5. 6.]\n"
          ],
          "name": "stdout"
        }
      ]
    },
    {
      "cell_type": "code",
      "metadata": {
        "colab": {
          "base_uri": "https://localhost:8080/"
        },
        "id": "o6r96uNkAXtM",
        "outputId": "91b83ab9-df90-447a-9c12-6391596aee41"
      },
      "source": [
        "print('Rank :', t.ndim)\n",
        "print('Shape :', t.shape)"
      ],
      "execution_count": 203,
      "outputs": [
        {
          "output_type": "stream",
          "text": [
            "Rank : 1\n",
            "Shape : (7,)\n"
          ],
          "name": "stdout"
        }
      ]
    },
    {
      "cell_type": "code",
      "metadata": {
        "colab": {
          "base_uri": "https://localhost:8080/"
        },
        "id": "96kzSpqrAgmV",
        "outputId": "fa63544d-9c87-43f9-96a5-ff87a6197035"
      },
      "source": [
        "#Element\n",
        "t[0], t[1]"
      ],
      "execution_count": 204,
      "outputs": [
        {
          "output_type": "execute_result",
          "data": {
            "text/plain": [
              "(0.0, 1.0)"
            ]
          },
          "metadata": {
            "tags": []
          },
          "execution_count": 204
        }
      ]
    },
    {
      "cell_type": "code",
      "metadata": {
        "colab": {
          "base_uri": "https://localhost:8080/"
        },
        "id": "kBWOuH8mAm-W",
        "outputId": "51d3f2f8-0ed2-4acb-e117-0ca3b0e66860"
      },
      "source": [
        "#slicing\n",
        "t[2:-1]"
      ],
      "execution_count": 205,
      "outputs": [
        {
          "output_type": "execute_result",
          "data": {
            "text/plain": [
              "array([2., 3., 4., 5.])"
            ]
          },
          "metadata": {
            "tags": []
          },
          "execution_count": 205
        }
      ]
    },
    {
      "cell_type": "markdown",
      "metadata": {
        "id": "x6I97kxTAuGS"
      },
      "source": [
        "2D array with numpy"
      ]
    },
    {
      "cell_type": "code",
      "metadata": {
        "colab": {
          "base_uri": "https://localhost:8080/"
        },
        "id": "dXmX-sEXAtwJ",
        "outputId": "a1b197e6-01ac-428d-8069-1107eeb98bab"
      },
      "source": [
        "t = np.array([[1., 2., 3.],[4., 5., 6.],[7., 8., 9.],[10., 11., 12.]])\n",
        "print(t)"
      ],
      "execution_count": 206,
      "outputs": [
        {
          "output_type": "stream",
          "text": [
            "[[ 1.  2.  3.]\n",
            " [ 4.  5.  6.]\n",
            " [ 7.  8.  9.]\n",
            " [10. 11. 12.]]\n"
          ],
          "name": "stdout"
        }
      ]
    },
    {
      "cell_type": "code",
      "metadata": {
        "colab": {
          "base_uri": "https://localhost:8080/"
        },
        "id": "e8YkEYfLAqGw",
        "outputId": "1240c6ac-409c-49e1-f647-10b4b76a5e1b"
      },
      "source": [
        "print(t.ndim)\n",
        "print(t.shape)"
      ],
      "execution_count": 207,
      "outputs": [
        {
          "output_type": "stream",
          "text": [
            "2\n",
            "(4, 3)\n"
          ],
          "name": "stdout"
        }
      ]
    },
    {
      "cell_type": "markdown",
      "metadata": {
        "id": "Ej0W-k3eBGHZ"
      },
      "source": [
        "1D array with PyTorch"
      ]
    },
    {
      "cell_type": "code",
      "metadata": {
        "colab": {
          "base_uri": "https://localhost:8080/"
        },
        "id": "aIX5by1AA863",
        "outputId": "4efda3e4-7efb-4cf1-b425-d9ce5e0c75f0"
      },
      "source": [
        "t = torch.FloatTensor([0., 1., 2., 3., 4., 5., 6.])\n",
        "print(t)"
      ],
      "execution_count": 208,
      "outputs": [
        {
          "output_type": "stream",
          "text": [
            "tensor([0., 1., 2., 3., 4., 5., 6.])\n"
          ],
          "name": "stdout"
        }
      ]
    },
    {
      "cell_type": "code",
      "metadata": {
        "colab": {
          "base_uri": "https://localhost:8080/"
        },
        "id": "5AkDlMI8BVrw",
        "outputId": "b9c603d7-c2dd-4f6c-c956-715b7a43e308"
      },
      "source": [
        "t.dim()"
      ],
      "execution_count": 209,
      "outputs": [
        {
          "output_type": "execute_result",
          "data": {
            "text/plain": [
              "1"
            ]
          },
          "metadata": {
            "tags": []
          },
          "execution_count": 209
        }
      ]
    },
    {
      "cell_type": "code",
      "metadata": {
        "colab": {
          "base_uri": "https://localhost:8080/"
        },
        "id": "zeu7vCG-Bo42",
        "outputId": "620f1b6b-8b5f-4e2b-ca4a-70b7bc663032"
      },
      "source": [
        "t.size(), t.shape"
      ],
      "execution_count": 210,
      "outputs": [
        {
          "output_type": "execute_result",
          "data": {
            "text/plain": [
              "(torch.Size([7]), torch.Size([7]))"
            ]
          },
          "metadata": {
            "tags": []
          },
          "execution_count": 210
        }
      ]
    },
    {
      "cell_type": "markdown",
      "metadata": {
        "id": "PVlch6zWB1Mu"
      },
      "source": [
        "2D array with pytorch"
      ]
    },
    {
      "cell_type": "code",
      "metadata": {
        "colab": {
          "base_uri": "https://localhost:8080/"
        },
        "id": "s-wYUj8QBs4n",
        "outputId": "d12b3d3c-4dfd-4b7b-c0e3-0f6a46d937b6"
      },
      "source": [
        "t = torch.FloatTensor([[1., 2., 3.],\n",
        "                       [4., 5., 6.],\n",
        "                       [7., 8., 9.],\n",
        "                       [10., 11., 12.]\n",
        "                      ])\n",
        "print(t)"
      ],
      "execution_count": 211,
      "outputs": [
        {
          "output_type": "stream",
          "text": [
            "tensor([[ 1.,  2.,  3.],\n",
            "        [ 4.,  5.,  6.],\n",
            "        [ 7.,  8.,  9.],\n",
            "        [10., 11., 12.]])\n"
          ],
          "name": "stdout"
        }
      ]
    },
    {
      "cell_type": "code",
      "metadata": {
        "colab": {
          "base_uri": "https://localhost:8080/"
        },
        "id": "P1yj12cMB2-x",
        "outputId": "8ec3746d-68b9-4f9a-87be-8d344e143396"
      },
      "source": [
        "print(t[:, 1])"
      ],
      "execution_count": 212,
      "outputs": [
        {
          "output_type": "stream",
          "text": [
            "tensor([ 2.,  5.,  8., 11.])\n"
          ],
          "name": "stdout"
        }
      ]
    },
    {
      "cell_type": "code",
      "metadata": {
        "colab": {
          "base_uri": "https://localhost:8080/"
        },
        "id": "QoS2dS46CAdZ",
        "outputId": "d681a1dd-ef5d-4e40-822d-4465f85215f0"
      },
      "source": [
        "print(t[:, -1])"
      ],
      "execution_count": 213,
      "outputs": [
        {
          "output_type": "stream",
          "text": [
            "tensor([ 3.,  6.,  9., 12.])\n"
          ],
          "name": "stdout"
        }
      ]
    },
    {
      "cell_type": "code",
      "metadata": {
        "colab": {
          "base_uri": "https://localhost:8080/"
        },
        "id": "pVg5FoiqCKC5",
        "outputId": "bda32062-b9d4-479b-db91-3f8151325b3b"
      },
      "source": [
        "print(t[:, :-1])"
      ],
      "execution_count": 214,
      "outputs": [
        {
          "output_type": "stream",
          "text": [
            "tensor([[ 1.,  2.],\n",
            "        [ 4.,  5.],\n",
            "        [ 7.,  8.],\n",
            "        [10., 11.]])\n"
          ],
          "name": "stdout"
        }
      ]
    },
    {
      "cell_type": "code",
      "metadata": {
        "colab": {
          "base_uri": "https://localhost:8080/"
        },
        "id": "Ua2wkQJdCOH4",
        "outputId": "b9e0179f-c423-4c2a-eb78-895e64dd53d9"
      },
      "source": [
        "print(t[:, 1].size())"
      ],
      "execution_count": 215,
      "outputs": [
        {
          "output_type": "stream",
          "text": [
            "torch.Size([4])\n"
          ],
          "name": "stdout"
        }
      ]
    },
    {
      "cell_type": "markdown",
      "metadata": {
        "id": "VNpMW-Z3CYoU"
      },
      "source": [
        "Shape, Rank, Axis"
      ]
    },
    {
      "cell_type": "code",
      "metadata": {
        "id": "sklz-WKXCVj9"
      },
      "source": [
        "t = torch.FloatTensor( [ [[1,2,3,4], \n",
        "                          [5,6,7,8], \n",
        "                          [9,10,11,12]],\n",
        "                         [[13,14,15,16], \n",
        "                          [17,18,19,20], \n",
        "                          [21,22,23,24]] ]\n",
        "                      )"
      ],
      "execution_count": 216,
      "outputs": []
    },
    {
      "cell_type": "code",
      "metadata": {
        "colab": {
          "base_uri": "https://localhost:8080/"
        },
        "id": "gRyJnXFlC-bP",
        "outputId": "08bb5335-930c-4f09-8d54-37b5fee697d1"
      },
      "source": [
        "t.dim()"
      ],
      "execution_count": 217,
      "outputs": [
        {
          "output_type": "execute_result",
          "data": {
            "text/plain": [
              "3"
            ]
          },
          "metadata": {
            "tags": []
          },
          "execution_count": 217
        }
      ]
    },
    {
      "cell_type": "code",
      "metadata": {
        "colab": {
          "base_uri": "https://localhost:8080/"
        },
        "id": "OEjdtQqxC_yO",
        "outputId": "8dbade44-0d57-49c2-caf5-54fe506d9fcb"
      },
      "source": [
        "t.size()"
      ],
      "execution_count": 218,
      "outputs": [
        {
          "output_type": "execute_result",
          "data": {
            "text/plain": [
              "torch.Size([2, 3, 4])"
            ]
          },
          "metadata": {
            "tags": []
          },
          "execution_count": 218
        }
      ]
    },
    {
      "cell_type": "code",
      "metadata": {
        "colab": {
          "base_uri": "https://localhost:8080/"
        },
        "id": "jrO3ZSNeDCNz",
        "outputId": "8f2dc9be-872b-4ab6-99f4-69e4af9c78f7"
      },
      "source": [
        "t[1, 1, :]"
      ],
      "execution_count": 219,
      "outputs": [
        {
          "output_type": "execute_result",
          "data": {
            "text/plain": [
              "tensor([17., 18., 19., 20.])"
            ]
          },
          "metadata": {
            "tags": []
          },
          "execution_count": 219
        }
      ]
    },
    {
      "cell_type": "code",
      "metadata": {
        "colab": {
          "base_uri": "https://localhost:8080/"
        },
        "id": "n66UB4ilDcDx",
        "outputId": "4203cbf0-d52d-45c0-c6c6-9ea85c7e0bef"
      },
      "source": [
        "t[0, 1, :]"
      ],
      "execution_count": 220,
      "outputs": [
        {
          "output_type": "execute_result",
          "data": {
            "text/plain": [
              "tensor([5., 6., 7., 8.])"
            ]
          },
          "metadata": {
            "tags": []
          },
          "execution_count": 220
        }
      ]
    },
    {
      "cell_type": "markdown",
      "metadata": {
        "id": "IksNBBR1DxCN"
      },
      "source": [
        "Mul v s Matmul"
      ]
    },
    {
      "cell_type": "code",
      "metadata": {
        "id": "HjRjd_-2Dvy-"
      },
      "source": [
        "m1 = torch.FloatTensor([[1, 2],[3, 4]])\n",
        "m2 = torch.FloatTensor([[1],[2]])"
      ],
      "execution_count": 221,
      "outputs": []
    },
    {
      "cell_type": "code",
      "metadata": {
        "colab": {
          "base_uri": "https://localhost:8080/"
        },
        "id": "ajqdD8OXD3Sg",
        "outputId": "69bff546-803e-419e-d78d-3072db23d44f"
      },
      "source": [
        "m1.shape"
      ],
      "execution_count": 222,
      "outputs": [
        {
          "output_type": "execute_result",
          "data": {
            "text/plain": [
              "torch.Size([2, 2])"
            ]
          },
          "metadata": {
            "tags": []
          },
          "execution_count": 222
        }
      ]
    },
    {
      "cell_type": "code",
      "metadata": {
        "colab": {
          "base_uri": "https://localhost:8080/"
        },
        "id": "mQXJLD7hEEU7",
        "outputId": "091a8019-fcf8-4dcd-a098-d1a2a0fdfe85"
      },
      "source": [
        "m2.shape"
      ],
      "execution_count": 223,
      "outputs": [
        {
          "output_type": "execute_result",
          "data": {
            "text/plain": [
              "torch.Size([2, 1])"
            ]
          },
          "metadata": {
            "tags": []
          },
          "execution_count": 223
        }
      ]
    },
    {
      "cell_type": "code",
      "metadata": {
        "colab": {
          "base_uri": "https://localhost:8080/"
        },
        "id": "sgsHbefeEFJO",
        "outputId": "18db65d9-ace8-4b85-bc0e-0a95579d1080"
      },
      "source": [
        "#Matmul\n",
        "print(m1.matmul(m2))"
      ],
      "execution_count": 224,
      "outputs": [
        {
          "output_type": "stream",
          "text": [
            "tensor([[ 5.],\n",
            "        [11.]])\n"
          ],
          "name": "stdout"
        }
      ]
    },
    {
      "cell_type": "code",
      "metadata": {
        "colab": {
          "base_uri": "https://localhost:8080/"
        },
        "id": "y1ljxijIEMj5",
        "outputId": "7622906a-f0e4-494c-81e9-462dee18c834"
      },
      "source": [
        "#Multiply\n",
        "print(m1 * m2)"
      ],
      "execution_count": 225,
      "outputs": [
        {
          "output_type": "stream",
          "text": [
            "tensor([[1., 2.],\n",
            "        [6., 8.]])\n"
          ],
          "name": "stdout"
        }
      ]
    },
    {
      "cell_type": "markdown",
      "metadata": {
        "id": "D_P_NxE4Eavm"
      },
      "source": [
        "Broadcasting"
      ]
    },
    {
      "cell_type": "code",
      "metadata": {
        "colab": {
          "base_uri": "https://localhost:8080/"
        },
        "id": "tvBk9iVREPau",
        "outputId": "b32e69a4-cd74-47bf-80b7-9e3ed20f8372"
      },
      "source": [
        "m1 = torch.FloatTensor([[3,3]])\n",
        "m2 = torch.FloatTensor([[2,2]])\n",
        "print(m1 + m2)"
      ],
      "execution_count": 226,
      "outputs": [
        {
          "output_type": "stream",
          "text": [
            "tensor([[5., 5.]])\n"
          ],
          "name": "stdout"
        }
      ]
    },
    {
      "cell_type": "code",
      "metadata": {
        "colab": {
          "base_uri": "https://localhost:8080/"
        },
        "id": "RPsnhPCGEk3u",
        "outputId": "3035741a-55b5-4ab7-a59c-7b9c9228402d"
      },
      "source": [
        "m1 = torch.FloatTensor([[1,2]]) # 2치원 vector\n",
        "m2 = torch.FloatTensor([3]) # 1차원 scalar ->  [[3], [3]]\n",
        "print(m1 + m2)\n"
      ],
      "execution_count": 227,
      "outputs": [
        {
          "output_type": "stream",
          "text": [
            "tensor([[4., 5.]])\n"
          ],
          "name": "stdout"
        }
      ]
    },
    {
      "cell_type": "code",
      "metadata": {
        "id": "K7LoVXoREy1S"
      },
      "source": [
        "# 1 x 2 Vector + 2 x 1 Vector\n",
        "m1 = torch.FloatTensor([[1, 2]])\n",
        "m2 = torch.FloatTensor([[3], [4]])"
      ],
      "execution_count": 228,
      "outputs": []
    },
    {
      "cell_type": "code",
      "metadata": {
        "colab": {
          "base_uri": "https://localhost:8080/"
        },
        "id": "ll-CjiCYFT95",
        "outputId": "b16f141b-a056-47ca-ecc5-1b9602ad3ad7"
      },
      "source": [
        "m1.shape"
      ],
      "execution_count": 229,
      "outputs": [
        {
          "output_type": "execute_result",
          "data": {
            "text/plain": [
              "torch.Size([1, 2])"
            ]
          },
          "metadata": {
            "tags": []
          },
          "execution_count": 229
        }
      ]
    },
    {
      "cell_type": "code",
      "metadata": {
        "colab": {
          "base_uri": "https://localhost:8080/"
        },
        "id": "q2IyBnyyFUZK",
        "outputId": "dba90c51-c4d0-41f4-a04a-e654daec9abc"
      },
      "source": [
        "m2.shape"
      ],
      "execution_count": 230,
      "outputs": [
        {
          "output_type": "execute_result",
          "data": {
            "text/plain": [
              "torch.Size([2, 1])"
            ]
          },
          "metadata": {
            "tags": []
          },
          "execution_count": 230
        }
      ]
    },
    {
      "cell_type": "code",
      "metadata": {
        "colab": {
          "base_uri": "https://localhost:8080/"
        },
        "id": "h80kg_sKFVH5",
        "outputId": "6174f09c-9c6b-476c-bb3f-39047d86fd26"
      },
      "source": [
        "m3 = m1 + m2 #m1이 [[1,2], [1,2]]로 브로드캐스팅\n",
        "             #m2는 [[3,3], [4,4]]로 브로드캐스팅\n",
        "m3.shape"
      ],
      "execution_count": 231,
      "outputs": [
        {
          "output_type": "execute_result",
          "data": {
            "text/plain": [
              "torch.Size([2, 2])"
            ]
          },
          "metadata": {
            "tags": []
          },
          "execution_count": 231
        }
      ]
    },
    {
      "cell_type": "code",
      "metadata": {
        "colab": {
          "base_uri": "https://localhost:8080/"
        },
        "id": "Fdh_ysICFhAe",
        "outputId": "69dd29d3-4117-44d1-f0a9-d6d74db97882"
      },
      "source": [
        "print(m3)"
      ],
      "execution_count": 232,
      "outputs": [
        {
          "output_type": "stream",
          "text": [
            "tensor([[4., 5.],\n",
            "        [5., 6.]])\n"
          ],
          "name": "stdout"
        }
      ]
    },
    {
      "cell_type": "markdown",
      "metadata": {
        "id": "fJCRusmmGa3u"
      },
      "source": [
        "Mean"
      ]
    },
    {
      "cell_type": "code",
      "metadata": {
        "colab": {
          "base_uri": "https://localhost:8080/"
        },
        "id": "51UquW3NGDyS",
        "outputId": "7e87c1b1-02a1-4cb4-f54e-317bc9fe75fd"
      },
      "source": [
        "t = torch.FloatTensor([1, 2])\n",
        "print(t.mean())"
      ],
      "execution_count": 233,
      "outputs": [
        {
          "output_type": "stream",
          "text": [
            "tensor(1.5000)\n"
          ],
          "name": "stdout"
        }
      ]
    },
    {
      "cell_type": "code",
      "metadata": {
        "colab": {
          "base_uri": "https://localhost:8080/"
        },
        "id": "0mgg061cGj6i",
        "outputId": "133c9471-c583-4cc9-b2f0-ed6273eea8d3"
      },
      "source": [
        "t = torch.LongTensor([1,2])\n",
        "try:\n",
        "  print(t.mean())\n",
        "except Exception as exc:\n",
        "  print(exc)"
      ],
      "execution_count": 234,
      "outputs": [
        {
          "output_type": "stream",
          "text": [
            "Can only calculate the mean of floating types. Got Long instead.\n"
          ],
          "name": "stdout"
        }
      ]
    },
    {
      "cell_type": "code",
      "metadata": {
        "colab": {
          "base_uri": "https://localhost:8080/"
        },
        "id": "9VbfhRgLHLsk",
        "outputId": "62f8bd65-dc92-4518-ab50-915dbed20798"
      },
      "source": [
        "t = torch.FloatTensor([[1,2],[3,4]])\n",
        "print(t)"
      ],
      "execution_count": 235,
      "outputs": [
        {
          "output_type": "stream",
          "text": [
            "tensor([[1., 2.],\n",
            "        [3., 4.]])\n"
          ],
          "name": "stdout"
        }
      ]
    },
    {
      "cell_type": "code",
      "metadata": {
        "colab": {
          "base_uri": "https://localhost:8080/"
        },
        "id": "dPK9fO2-HU6J",
        "outputId": "6fa5667a-cd26-42ac-a3dd-bd6ea8111d46"
      },
      "source": [
        "t.mean()"
      ],
      "execution_count": 236,
      "outputs": [
        {
          "output_type": "execute_result",
          "data": {
            "text/plain": [
              "tensor(2.5000)"
            ]
          },
          "metadata": {
            "tags": []
          },
          "execution_count": 236
        }
      ]
    },
    {
      "cell_type": "code",
      "metadata": {
        "colab": {
          "base_uri": "https://localhost:8080/"
        },
        "id": "cvc5gDs7HWhJ",
        "outputId": "abd1898f-9bd2-4164-a945-c47f624f6a1b"
      },
      "source": [
        "t.mean(dim=0)"
      ],
      "execution_count": 237,
      "outputs": [
        {
          "output_type": "execute_result",
          "data": {
            "text/plain": [
              "tensor([2., 3.])"
            ]
          },
          "metadata": {
            "tags": []
          },
          "execution_count": 237
        }
      ]
    },
    {
      "cell_type": "code",
      "metadata": {
        "colab": {
          "base_uri": "https://localhost:8080/"
        },
        "id": "nXHHXrQJHbZB",
        "outputId": "7af18a3f-d521-439d-eaf5-afdaeaf5ddf8"
      },
      "source": [
        "t.mean(dim=1)"
      ],
      "execution_count": 238,
      "outputs": [
        {
          "output_type": "execute_result",
          "data": {
            "text/plain": [
              "tensor([1.5000, 3.5000])"
            ]
          },
          "metadata": {
            "tags": []
          },
          "execution_count": 238
        }
      ]
    },
    {
      "cell_type": "code",
      "metadata": {
        "colab": {
          "base_uri": "https://localhost:8080/"
        },
        "id": "mdICz0YrIvWr",
        "outputId": "c23fcc4c-6b94-47ab-d8b8-3d269ed82331"
      },
      "source": [
        "t.mean(dim=-1)"
      ],
      "execution_count": 239,
      "outputs": [
        {
          "output_type": "execute_result",
          "data": {
            "text/plain": [
              "tensor([1.5000, 3.5000])"
            ]
          },
          "metadata": {
            "tags": []
          },
          "execution_count": 239
        }
      ]
    },
    {
      "cell_type": "markdown",
      "metadata": {
        "id": "lo1gKnn4JRN4"
      },
      "source": [
        "Sum"
      ]
    },
    {
      "cell_type": "code",
      "metadata": {
        "colab": {
          "base_uri": "https://localhost:8080/"
        },
        "id": "PthCsfZTIxv0",
        "outputId": "bfcc1bc5-53ca-4b27-e958-01732d4480cd"
      },
      "source": [
        "t = torch.FloatTensor([[1, 2], [3, 4]])\n",
        "print(t)"
      ],
      "execution_count": 240,
      "outputs": [
        {
          "output_type": "stream",
          "text": [
            "tensor([[1., 2.],\n",
            "        [3., 4.]])\n"
          ],
          "name": "stdout"
        }
      ]
    },
    {
      "cell_type": "code",
      "metadata": {
        "colab": {
          "base_uri": "https://localhost:8080/"
        },
        "id": "ftdmASljJTRw",
        "outputId": "a4afa40f-839c-4282-b59f-61d68923d2ec"
      },
      "source": [
        "print(t.sum())"
      ],
      "execution_count": 241,
      "outputs": [
        {
          "output_type": "stream",
          "text": [
            "tensor(10.)\n"
          ],
          "name": "stdout"
        }
      ]
    },
    {
      "cell_type": "code",
      "metadata": {
        "colab": {
          "base_uri": "https://localhost:8080/"
        },
        "id": "TEyQamNKJUfQ",
        "outputId": "90ae9398-5c15-4094-a2a6-c2c75228e403"
      },
      "source": [
        "print(t.sum(dim=0))"
      ],
      "execution_count": 242,
      "outputs": [
        {
          "output_type": "stream",
          "text": [
            "tensor([4., 6.])\n"
          ],
          "name": "stdout"
        }
      ]
    },
    {
      "cell_type": "code",
      "metadata": {
        "colab": {
          "base_uri": "https://localhost:8080/"
        },
        "id": "S5H1kwruJasZ",
        "outputId": "4433e4e1-7d96-4873-d394-71e40a52d40d"
      },
      "source": [
        "print(t.sum(dim=1))"
      ],
      "execution_count": 243,
      "outputs": [
        {
          "output_type": "stream",
          "text": [
            "tensor([3., 7.])\n"
          ],
          "name": "stdout"
        }
      ]
    },
    {
      "cell_type": "code",
      "metadata": {
        "colab": {
          "base_uri": "https://localhost:8080/"
        },
        "id": "f370kwOCK-yj",
        "outputId": "b9ed4ca4-00f4-4c5f-8e2c-72ff6d3aab90"
      },
      "source": [
        "t = torch.FloatTensor([[[1, 2]], [[3, 4]]])\n",
        "print(t)"
      ],
      "execution_count": 244,
      "outputs": [
        {
          "output_type": "stream",
          "text": [
            "tensor([[[1., 2.]],\n",
            "\n",
            "        [[3., 4.]]])\n"
          ],
          "name": "stdout"
        }
      ]
    },
    {
      "cell_type": "code",
      "metadata": {
        "colab": {
          "base_uri": "https://localhost:8080/"
        },
        "id": "EIqNg541LD1g",
        "outputId": "0f699a24-34a6-4220-b229-ad0def68ef22"
      },
      "source": [
        "t.sum(dim=0)"
      ],
      "execution_count": 245,
      "outputs": [
        {
          "output_type": "execute_result",
          "data": {
            "text/plain": [
              "tensor([[4., 6.]])"
            ]
          },
          "metadata": {
            "tags": []
          },
          "execution_count": 245
        }
      ]
    },
    {
      "cell_type": "code",
      "metadata": {
        "colab": {
          "base_uri": "https://localhost:8080/"
        },
        "id": "Op8ZHUEWLPIy",
        "outputId": "1cba3189-6385-44de-d224-799f5295de11"
      },
      "source": [
        "t.sum(dim=1)"
      ],
      "execution_count": 246,
      "outputs": [
        {
          "output_type": "execute_result",
          "data": {
            "text/plain": [
              "tensor([[1., 2.],\n",
              "        [3., 4.]])"
            ]
          },
          "metadata": {
            "tags": []
          },
          "execution_count": 246
        }
      ]
    },
    {
      "cell_type": "code",
      "metadata": {
        "colab": {
          "base_uri": "https://localhost:8080/"
        },
        "id": "f-f5nmD8LtMy",
        "outputId": "98169069-f384-4f62-8723-0633d328e6ba"
      },
      "source": [
        "t.sum(dim=2)"
      ],
      "execution_count": 247,
      "outputs": [
        {
          "output_type": "execute_result",
          "data": {
            "text/plain": [
              "tensor([[3.],\n",
              "        [7.]])"
            ]
          },
          "metadata": {
            "tags": []
          },
          "execution_count": 247
        }
      ]
    },
    {
      "cell_type": "markdown",
      "metadata": {
        "id": "zyMpnmiZJm9s"
      },
      "source": [
        "Max and Argmax"
      ]
    },
    {
      "cell_type": "code",
      "metadata": {
        "colab": {
          "base_uri": "https://localhost:8080/"
        },
        "id": "oHzvCmFJJhKV",
        "outputId": "783c1abd-3f84-4747-ec76-f5f018c94a21"
      },
      "source": [
        "t = torch.FloatTensor([[1,2], [3,4]])\n",
        "print(t)"
      ],
      "execution_count": 248,
      "outputs": [
        {
          "output_type": "stream",
          "text": [
            "tensor([[1., 2.],\n",
            "        [3., 4.]])\n"
          ],
          "name": "stdout"
        }
      ]
    },
    {
      "cell_type": "code",
      "metadata": {
        "colab": {
          "base_uri": "https://localhost:8080/"
        },
        "id": "wLzQoITGJuPv",
        "outputId": "87583473-8d66-4612-e209-78a045a19376"
      },
      "source": [
        "print(t.max())"
      ],
      "execution_count": 249,
      "outputs": [
        {
          "output_type": "stream",
          "text": [
            "tensor(4.)\n"
          ],
          "name": "stdout"
        }
      ]
    },
    {
      "cell_type": "code",
      "metadata": {
        "colab": {
          "base_uri": "https://localhost:8080/"
        },
        "id": "-u8vW-m4J2i9",
        "outputId": "ce1dcfc2-4750-41aa-82f2-10f4b4853e21"
      },
      "source": [
        "#dim=0 : 가장 바깥쪽 차원을 지웠을 때, 남은 텐서 중에서 맥스값 리턴\n",
        "#dim=1 : 가장 바깥쪽 차원의 1칸 앞에 있는 차원 지웠을 때\n",
        "#위치한 인덱스 값까지 같이 준다.\n",
        "print(t.max(dim=0))"
      ],
      "execution_count": 250,
      "outputs": [
        {
          "output_type": "stream",
          "text": [
            "torch.return_types.max(\n",
            "values=tensor([3., 4.]),\n",
            "indices=tensor([1, 1]))\n"
          ],
          "name": "stdout"
        }
      ]
    },
    {
      "cell_type": "code",
      "metadata": {
        "colab": {
          "base_uri": "https://localhost:8080/"
        },
        "id": "yChKbR20KAJt",
        "outputId": "51d9cf9a-d81f-457b-e761-a961a7d03c1d"
      },
      "source": [
        "print('max: ', t.max(dim=0)[0])"
      ],
      "execution_count": 251,
      "outputs": [
        {
          "output_type": "stream",
          "text": [
            "max:  tensor([3., 4.])\n"
          ],
          "name": "stdout"
        }
      ]
    },
    {
      "cell_type": "code",
      "metadata": {
        "colab": {
          "base_uri": "https://localhost:8080/"
        },
        "id": "VXVTG2KOMmyl",
        "outputId": "290f1e5b-3d2e-443f-8c5e-bfb89c910c32"
      },
      "source": [
        "print('Argmax: ', t.max(dim=0)[1])"
      ],
      "execution_count": 252,
      "outputs": [
        {
          "output_type": "stream",
          "text": [
            "Argmax:  tensor([1, 1])\n"
          ],
          "name": "stdout"
        }
      ]
    },
    {
      "cell_type": "code",
      "metadata": {
        "colab": {
          "base_uri": "https://localhost:8080/"
        },
        "id": "wSt6j8jCMr9W",
        "outputId": "384631ce-b416-43ce-f69e-09950e46c04b"
      },
      "source": [
        "print(t.max(dim=1))"
      ],
      "execution_count": 253,
      "outputs": [
        {
          "output_type": "stream",
          "text": [
            "torch.return_types.max(\n",
            "values=tensor([2., 4.]),\n",
            "indices=tensor([1, 1]))\n"
          ],
          "name": "stdout"
        }
      ]
    },
    {
      "cell_type": "markdown",
      "metadata": {
        "id": "qk7aq_mxM_gt"
      },
      "source": [
        "View"
      ]
    },
    {
      "cell_type": "code",
      "metadata": {
        "colab": {
          "base_uri": "https://localhost:8080/"
        },
        "id": "Ll1PC3ZaM3P_",
        "outputId": "c6d3cf6c-b9a2-4f8d-f4cc-2642a2dde17f"
      },
      "source": [
        "t = np.array(\n",
        "             [[[0, 1, 2],\n",
        "               [3, 4, 5]],\n",
        "\n",
        "              [[6, 7, 8],\n",
        "               [9, 10, 11]]]\n",
        "             )\n",
        "\n",
        "ft = torch.FloatTensor(t)\n",
        "print(ft.shape)"
      ],
      "execution_count": 254,
      "outputs": [
        {
          "output_type": "stream",
          "text": [
            "torch.Size([2, 2, 3])\n"
          ],
          "name": "stdout"
        }
      ]
    },
    {
      "cell_type": "code",
      "metadata": {
        "colab": {
          "base_uri": "https://localhost:8080/"
        },
        "id": "4RJKIsC-N0b1",
        "outputId": "08aa1a38-4d51-476e-c6f0-5b89c4d0c25e"
      },
      "source": [
        "print(ft.view([-1, 3]))\n",
        "print(ft.view([-1, 3]).shape)"
      ],
      "execution_count": 255,
      "outputs": [
        {
          "output_type": "stream",
          "text": [
            "tensor([[ 0.,  1.,  2.],\n",
            "        [ 3.,  4.,  5.],\n",
            "        [ 6.,  7.,  8.],\n",
            "        [ 9., 10., 11.]])\n",
            "torch.Size([4, 3])\n"
          ],
          "name": "stdout"
        }
      ]
    },
    {
      "cell_type": "code",
      "metadata": {
        "colab": {
          "base_uri": "https://localhost:8080/"
        },
        "id": "l6_xumDJN7NO",
        "outputId": "e2e7b09f-a410-481e-b60d-f0c533f78abc"
      },
      "source": [
        "print(ft.view([-1, 1, 3]))\n",
        "print(ft.view([-1, 1, 3]).shape)"
      ],
      "execution_count": 256,
      "outputs": [
        {
          "output_type": "stream",
          "text": [
            "tensor([[[ 0.,  1.,  2.]],\n",
            "\n",
            "        [[ 3.,  4.,  5.]],\n",
            "\n",
            "        [[ 6.,  7.,  8.]],\n",
            "\n",
            "        [[ 9., 10., 11.]]])\n",
            "torch.Size([4, 1, 3])\n"
          ],
          "name": "stdout"
        }
      ]
    },
    {
      "cell_type": "markdown",
      "metadata": {
        "id": "7wXFp7o2OqMJ"
      },
      "source": [
        "Squeeze : 차원 축소"
      ]
    },
    {
      "cell_type": "code",
      "metadata": {
        "colab": {
          "base_uri": "https://localhost:8080/"
        },
        "id": "1yHF8kzROmo4",
        "outputId": "038a21b0-cca0-499f-a8af-8e3c65e65ecd"
      },
      "source": [
        "ft = torch.FloatTensor([[0], [1], [2]])\n",
        "print(ft)\n",
        "print(ft.shape)"
      ],
      "execution_count": 257,
      "outputs": [
        {
          "output_type": "stream",
          "text": [
            "tensor([[0.],\n",
            "        [1.],\n",
            "        [2.]])\n",
            "torch.Size([3, 1])\n"
          ],
          "name": "stdout"
        }
      ]
    },
    {
      "cell_type": "code",
      "metadata": {
        "colab": {
          "base_uri": "https://localhost:8080/"
        },
        "id": "FBxtSnjoOxca",
        "outputId": "6582eda2-5648-45c3-ae3c-6786646130ba"
      },
      "source": [
        "print(ft.squeeze())"
      ],
      "execution_count": 258,
      "outputs": [
        {
          "output_type": "stream",
          "text": [
            "tensor([0., 1., 2.])\n"
          ],
          "name": "stdout"
        }
      ]
    },
    {
      "cell_type": "code",
      "metadata": {
        "colab": {
          "base_uri": "https://localhost:8080/"
        },
        "id": "XhLqrxhpO8r4",
        "outputId": "376d6516-0c2b-4170-b0b7-62f58ec0c0e8"
      },
      "source": [
        "print(ft.squeeze().shape)"
      ],
      "execution_count": 259,
      "outputs": [
        {
          "output_type": "stream",
          "text": [
            "torch.Size([3])\n"
          ],
          "name": "stdout"
        }
      ]
    },
    {
      "cell_type": "markdown",
      "metadata": {
        "id": "7XdkK3CNPQNW"
      },
      "source": [
        "Unsqueeze : 차원 추가"
      ]
    },
    {
      "cell_type": "code",
      "metadata": {
        "colab": {
          "base_uri": "https://localhost:8080/"
        },
        "id": "zNlbmWotPIvD",
        "outputId": "3a2dff04-73f2-4982-9620-874a7fd670ae"
      },
      "source": [
        "ft = torch.Tensor([0, 1, 2])\n",
        "print(ft)\n",
        "print(ft.shape)\n",
        "print(ft.ndim)"
      ],
      "execution_count": 260,
      "outputs": [
        {
          "output_type": "stream",
          "text": [
            "tensor([0., 1., 2.])\n",
            "torch.Size([3])\n",
            "1\n"
          ],
          "name": "stdout"
        }
      ]
    },
    {
      "cell_type": "code",
      "metadata": {
        "colab": {
          "base_uri": "https://localhost:8080/"
        },
        "id": "CVNqn66zPRgK",
        "outputId": "c9523259-0995-4bf4-871c-88840f8f214e"
      },
      "source": [
        "print(ft.unsqueeze(0))\n",
        "print(ft.unsqueeze(0).shape)\n",
        "print(ft.unsqueeze(0).ndim)"
      ],
      "execution_count": 261,
      "outputs": [
        {
          "output_type": "stream",
          "text": [
            "tensor([[0., 1., 2.]])\n",
            "torch.Size([1, 3])\n",
            "2\n"
          ],
          "name": "stdout"
        }
      ]
    },
    {
      "cell_type": "code",
      "metadata": {
        "colab": {
          "base_uri": "https://localhost:8080/"
        },
        "id": "QVXc18FRPdlF",
        "outputId": "2026f490-6286-4530-b093-3abc3f4ac231"
      },
      "source": [
        "print(ft.unsqueeze(1))\n",
        "print(ft.unsqueeze(1).shape)\n",
        "print(ft.unsqueeze(1).ndim)"
      ],
      "execution_count": 262,
      "outputs": [
        {
          "output_type": "stream",
          "text": [
            "tensor([[0.],\n",
            "        [1.],\n",
            "        [2.]])\n",
            "torch.Size([3, 1])\n",
            "2\n"
          ],
          "name": "stdout"
        }
      ]
    },
    {
      "cell_type": "code",
      "metadata": {
        "colab": {
          "base_uri": "https://localhost:8080/"
        },
        "id": "HFu8vuv7SEDk",
        "outputId": "bfe9cf75-f714-492a-c024-899bb60e84f6"
      },
      "source": [
        "print(ft.unsqueeze(-1))\n",
        "print(ft.unsqueeze(-1).shape)\n",
        "print(ft.unsqueeze(-1).ndim)"
      ],
      "execution_count": 263,
      "outputs": [
        {
          "output_type": "stream",
          "text": [
            "tensor([[0.],\n",
            "        [1.],\n",
            "        [2.]])\n",
            "torch.Size([3, 1])\n",
            "2\n"
          ],
          "name": "stdout"
        }
      ]
    },
    {
      "cell_type": "code",
      "metadata": {
        "colab": {
          "base_uri": "https://localhost:8080/"
        },
        "id": "KcEN2PE7QBG5",
        "outputId": "76240e3f-9e21-442d-9066-c73363497983"
      },
      "source": [
        "ft.view(1, -1)"
      ],
      "execution_count": 264,
      "outputs": [
        {
          "output_type": "execute_result",
          "data": {
            "text/plain": [
              "tensor([[0., 1., 2.]])"
            ]
          },
          "metadata": {
            "tags": []
          },
          "execution_count": 264
        }
      ]
    },
    {
      "cell_type": "markdown",
      "metadata": {
        "id": "fn26lYIHSOvx"
      },
      "source": [
        "Scatter"
      ]
    },
    {
      "cell_type": "code",
      "metadata": {
        "colab": {
          "base_uri": "https://localhost:8080/"
        },
        "id": "QQJp-LKYR2ir",
        "outputId": "3ac04600-dba0-418e-ec9d-a15f5d3cb250"
      },
      "source": [
        "lt = torch.LongTensor([[0], [1], [2], [0]])\n",
        "print(lt)"
      ],
      "execution_count": 265,
      "outputs": [
        {
          "output_type": "stream",
          "text": [
            "tensor([[0],\n",
            "        [1],\n",
            "        [2],\n",
            "        [0]])\n"
          ],
          "name": "stdout"
        }
      ]
    },
    {
      "cell_type": "code",
      "metadata": {
        "colab": {
          "base_uri": "https://localhost:8080/"
        },
        "id": "XSbNtU6osib8",
        "outputId": "e092cdce-dd10-4bb8-ea1c-cb14855c6093"
      },
      "source": [
        "one_hot = torch.zeros(4, 3)\n",
        "one_hot"
      ],
      "execution_count": 266,
      "outputs": [
        {
          "output_type": "execute_result",
          "data": {
            "text/plain": [
              "tensor([[0., 0., 0.],\n",
              "        [0., 0., 0.],\n",
              "        [0., 0., 0.],\n",
              "        [0., 0., 0.]])"
            ]
          },
          "metadata": {
            "tags": []
          },
          "execution_count": 266
        }
      ]
    },
    {
      "cell_type": "code",
      "metadata": {
        "colab": {
          "base_uri": "https://localhost:8080/"
        },
        "id": "R9bJbfgSstbM",
        "outputId": "02776cec-891a-4de1-d43a-8a4d9dd33eac"
      },
      "source": [
        "one_hot.scatter_(1, lt, 1)\n",
        "print(one_hot)"
      ],
      "execution_count": 267,
      "outputs": [
        {
          "output_type": "stream",
          "text": [
            "tensor([[1., 0., 0.],\n",
            "        [0., 1., 0.],\n",
            "        [0., 0., 1.],\n",
            "        [1., 0., 0.]])\n"
          ],
          "name": "stdout"
        }
      ]
    },
    {
      "cell_type": "markdown",
      "metadata": {
        "id": "272YPhMUs6dX"
      },
      "source": [
        "Casting"
      ]
    },
    {
      "cell_type": "code",
      "metadata": {
        "colab": {
          "base_uri": "https://localhost:8080/"
        },
        "id": "jR3SH6-Xs0fe",
        "outputId": "9d28ce71-c6a2-4ec5-8e27-98afeb051df4"
      },
      "source": [
        "lt = torch.LongTensor([1, 2, 3, 4])\n",
        "print(lt)"
      ],
      "execution_count": 268,
      "outputs": [
        {
          "output_type": "stream",
          "text": [
            "tensor([1, 2, 3, 4])\n"
          ],
          "name": "stdout"
        }
      ]
    },
    {
      "cell_type": "code",
      "metadata": {
        "colab": {
          "base_uri": "https://localhost:8080/"
        },
        "id": "onXgGb7Vtqim",
        "outputId": "73a7d966-9530-4382-9f40-36002464c9b7"
      },
      "source": [
        "print(lt.float())"
      ],
      "execution_count": 269,
      "outputs": [
        {
          "output_type": "stream",
          "text": [
            "tensor([1., 2., 3., 4.])\n"
          ],
          "name": "stdout"
        }
      ]
    },
    {
      "cell_type": "code",
      "metadata": {
        "colab": {
          "base_uri": "https://localhost:8080/"
        },
        "id": "7IYiDMeUts14",
        "outputId": "dad9a599-ad49-40f4-9d59-65178cb2a1ce"
      },
      "source": [
        "bt = torch.ByteTensor([True, False, False, True])\n",
        "print(bt)"
      ],
      "execution_count": 270,
      "outputs": [
        {
          "output_type": "stream",
          "text": [
            "tensor([1, 0, 0, 1], dtype=torch.uint8)\n"
          ],
          "name": "stdout"
        }
      ]
    },
    {
      "cell_type": "code",
      "metadata": {
        "colab": {
          "base_uri": "https://localhost:8080/"
        },
        "id": "2Nbr2eadtzs2",
        "outputId": "c70af25e-39fe-4cd9-9e09-c1ef03537eda"
      },
      "source": [
        "print(bt.long())\n",
        "print(bt.float())"
      ],
      "execution_count": 271,
      "outputs": [
        {
          "output_type": "stream",
          "text": [
            "tensor([1, 0, 0, 1])\n",
            "tensor([1., 0., 0., 1.])\n"
          ],
          "name": "stdout"
        }
      ]
    },
    {
      "cell_type": "markdown",
      "metadata": {
        "id": "ut370f2gv7oi"
      },
      "source": [
        "Concatenation"
      ]
    },
    {
      "cell_type": "code",
      "metadata": {
        "id": "1J-cxTqBt46T"
      },
      "source": [
        "x = torch.FloatTensor([[1, 2], [3, 4]])\n",
        "y = torch.FloatTensor([[5, 6], [7, 8]])"
      ],
      "execution_count": 272,
      "outputs": []
    },
    {
      "cell_type": "code",
      "metadata": {
        "colab": {
          "base_uri": "https://localhost:8080/"
        },
        "id": "debL6n4OwQAz",
        "outputId": "80ab059a-fb26-4257-d256-12698fb7c89a"
      },
      "source": [
        "x"
      ],
      "execution_count": 273,
      "outputs": [
        {
          "output_type": "execute_result",
          "data": {
            "text/plain": [
              "tensor([[1., 2.],\n",
              "        [3., 4.]])"
            ]
          },
          "metadata": {
            "tags": []
          },
          "execution_count": 273
        }
      ]
    },
    {
      "cell_type": "code",
      "metadata": {
        "colab": {
          "base_uri": "https://localhost:8080/"
        },
        "id": "jQIlGIULwXrL",
        "outputId": "8c17947f-e36c-4777-fb27-0093714b40b6"
      },
      "source": [
        "y"
      ],
      "execution_count": 274,
      "outputs": [
        {
          "output_type": "execute_result",
          "data": {
            "text/plain": [
              "tensor([[5., 6.],\n",
              "        [7., 8.]])"
            ]
          },
          "metadata": {
            "tags": []
          },
          "execution_count": 274
        }
      ]
    },
    {
      "cell_type": "code",
      "metadata": {
        "colab": {
          "base_uri": "https://localhost:8080/"
        },
        "id": "21UQq4DkwX_a",
        "outputId": "78bfb1f1-4b8f-4f36-f806-6b310c8674ad"
      },
      "source": [
        "torch.cat([x,y], dim=0)"
      ],
      "execution_count": 275,
      "outputs": [
        {
          "output_type": "execute_result",
          "data": {
            "text/plain": [
              "tensor([[1., 2.],\n",
              "        [3., 4.],\n",
              "        [5., 6.],\n",
              "        [7., 8.]])"
            ]
          },
          "metadata": {
            "tags": []
          },
          "execution_count": 275
        }
      ]
    },
    {
      "cell_type": "code",
      "metadata": {
        "colab": {
          "base_uri": "https://localhost:8080/"
        },
        "id": "1gyGDeSywcdZ",
        "outputId": "03c4c3c8-3197-4469-b7ed-bddb78a4bdd1"
      },
      "source": [
        "torch.cat([x,y], dim=1)"
      ],
      "execution_count": 276,
      "outputs": [
        {
          "output_type": "execute_result",
          "data": {
            "text/plain": [
              "tensor([[1., 2., 5., 6.],\n",
              "        [3., 4., 7., 8.]])"
            ]
          },
          "metadata": {
            "tags": []
          },
          "execution_count": 276
        }
      ]
    },
    {
      "cell_type": "markdown",
      "metadata": {
        "id": "fPXtbSDTlM7l"
      },
      "source": [
        "Stacking"
      ]
    },
    {
      "cell_type": "code",
      "metadata": {
        "id": "0JkZj8_vhy1W"
      },
      "source": [
        "x = torch.FloatTensor([1,4])\n",
        "y = torch.FloatTensor([2,5])\n",
        "z = torch.FloatTensor([3,6])"
      ],
      "execution_count": 277,
      "outputs": []
    },
    {
      "cell_type": "code",
      "metadata": {
        "colab": {
          "base_uri": "https://localhost:8080/"
        },
        "id": "CagrMqWYlUsa",
        "outputId": "20a28ded-066c-489f-acc4-d90cc1aaced0"
      },
      "source": [
        "# [x,y,z] = [[1,4],[2,5],[3,6]]\n",
        "print(torch.stack([x,y,z]))\n",
        "print(torch.stack([x,y,z]).shape)"
      ],
      "execution_count": 278,
      "outputs": [
        {
          "output_type": "stream",
          "text": [
            "tensor([[1., 4.],\n",
            "        [2., 5.],\n",
            "        [3., 6.]])\n",
            "torch.Size([3, 2])\n"
          ],
          "name": "stdout"
        }
      ]
    },
    {
      "cell_type": "code",
      "metadata": {
        "colab": {
          "base_uri": "https://localhost:8080/"
        },
        "id": "wKD46AkXlX6F",
        "outputId": "59ee5089-30d1-4bbc-9a3d-4a302b2d2fa9"
      },
      "source": [
        "print(torch.stack([x,y,z], dim=0))"
      ],
      "execution_count": 279,
      "outputs": [
        {
          "output_type": "stream",
          "text": [
            "tensor([[1., 4.],\n",
            "        [2., 5.],\n",
            "        [3., 6.]])\n"
          ],
          "name": "stdout"
        }
      ]
    },
    {
      "cell_type": "code",
      "metadata": {
        "colab": {
          "base_uri": "https://localhost:8080/"
        },
        "id": "81EKJJsWlhVX",
        "outputId": "feeefd13-1637-4298-b008-7a030194adff"
      },
      "source": [
        "print(torch.stack([x,y,z], dim=1))"
      ],
      "execution_count": 280,
      "outputs": [
        {
          "output_type": "stream",
          "text": [
            "tensor([[1., 2., 3.],\n",
            "        [4., 5., 6.]])\n"
          ],
          "name": "stdout"
        }
      ]
    },
    {
      "cell_type": "markdown",
      "metadata": {
        "id": "ewAafLgdnM_6"
      },
      "source": [
        "Ones and Zeros Like"
      ]
    },
    {
      "cell_type": "code",
      "metadata": {
        "colab": {
          "base_uri": "https://localhost:8080/"
        },
        "id": "aa1GSn5Hlkof",
        "outputId": "b33cd3be-279d-41d9-dd28-a05de717498a"
      },
      "source": [
        "x = torch.FloatTensor([[0,1,2],[2,1,0]])\n",
        "print(x)"
      ],
      "execution_count": 281,
      "outputs": [
        {
          "output_type": "stream",
          "text": [
            "tensor([[0., 1., 2.],\n",
            "        [2., 1., 0.]])\n"
          ],
          "name": "stdout"
        }
      ]
    },
    {
      "cell_type": "code",
      "metadata": {
        "colab": {
          "base_uri": "https://localhost:8080/"
        },
        "id": "GzkfyGqMnUEX",
        "outputId": "e6af4428-2e25-4998-9d58-d817802f70b2"
      },
      "source": [
        "print(torch.ones_like(x))\n",
        "print(torch.zeros_like(x))"
      ],
      "execution_count": 282,
      "outputs": [
        {
          "output_type": "stream",
          "text": [
            "tensor([[1., 1., 1.],\n",
            "        [1., 1., 1.]])\n",
            "tensor([[0., 0., 0.],\n",
            "        [0., 0., 0.]])\n"
          ],
          "name": "stdout"
        }
      ]
    },
    {
      "cell_type": "markdown",
      "metadata": {
        "id": "VMVQz5sjnrOE"
      },
      "source": [
        "In-place Operation"
      ]
    },
    {
      "cell_type": "code",
      "metadata": {
        "id": "U4NOUswDnXHc"
      },
      "source": [
        "x = torch.FloatTensor([[1,2], [3,4]])"
      ],
      "execution_count": 283,
      "outputs": []
    },
    {
      "cell_type": "code",
      "metadata": {
        "colab": {
          "base_uri": "https://localhost:8080/"
        },
        "id": "tNgEWkBoqBKH",
        "outputId": "c20e36f6-b868-486a-8a47-eceb3ad21d97"
      },
      "source": [
        "x"
      ],
      "execution_count": 284,
      "outputs": [
        {
          "output_type": "execute_result",
          "data": {
            "text/plain": [
              "tensor([[1., 2.],\n",
              "        [3., 4.]])"
            ]
          },
          "metadata": {
            "tags": []
          },
          "execution_count": 284
        }
      ]
    },
    {
      "cell_type": "code",
      "metadata": {
        "colab": {
          "base_uri": "https://localhost:8080/"
        },
        "id": "X9dsexZWqBg6",
        "outputId": "1160db43-7c11-4a5e-bd91-c8ebf3e13f3f"
      },
      "source": [
        "print(x.mul(2.))\n",
        "print(x)"
      ],
      "execution_count": 286,
      "outputs": [
        {
          "output_type": "stream",
          "text": [
            "tensor([[2., 4.],\n",
            "        [6., 8.]])\n",
            "tensor([[1., 2.],\n",
            "        [3., 4.]])\n"
          ],
          "name": "stdout"
        }
      ]
    },
    {
      "cell_type": "code",
      "metadata": {
        "colab": {
          "base_uri": "https://localhost:8080/"
        },
        "id": "HrIr1t5MqD7K",
        "outputId": "1adcf431-720c-4021-9488-6297da35053e"
      },
      "source": [
        "print(x.mul_(2.))\n",
        "print(x)"
      ],
      "execution_count": 287,
      "outputs": [
        {
          "output_type": "stream",
          "text": [
            "tensor([[2., 4.],\n",
            "        [6., 8.]])\n",
            "tensor([[2., 4.],\n",
            "        [6., 8.]])\n"
          ],
          "name": "stdout"
        }
      ]
    },
    {
      "cell_type": "code",
      "metadata": {
        "id": "VICBJpI4qmF_"
      },
      "source": [
        "m1 = torch.FloatTensor([[1, 2],[3, 4]])\n",
        "m2 = torch.FloatTensor([[1],[2]])"
      ],
      "execution_count": null,
      "outputs": []
    },
    {
      "cell_type": "code",
      "metadata": {
        "colab": {
          "base_uri": "https://localhost:8080/"
        },
        "id": "vf6Dz7w0qILB",
        "outputId": "d539efee-2460-4ee2-8c48-ffbc0d50c1e0"
      },
      "source": [
        "m1 = torch.FloatTensor([[1, 2],[3, 4]])\n",
        "print(m1)"
      ],
      "execution_count": 299,
      "outputs": [
        {
          "output_type": "stream",
          "text": [
            "tensor([[1., 2.],\n",
            "        [3., 4.]])\n"
          ],
          "name": "stdout"
        }
      ]
    },
    {
      "cell_type": "code",
      "metadata": {
        "colab": {
          "base_uri": "https://localhost:8080/"
        },
        "id": "AmHqXSEsqLcF",
        "outputId": "cede54f6-8d7c-4caf-870a-1b549ccab39a"
      },
      "source": [
        "print(m1.matmul(torch.FloatTensor([[1],[2]])))\n",
        "print(m1)"
      ],
      "execution_count": 303,
      "outputs": [
        {
          "output_type": "stream",
          "text": [
            "tensor([[ 5.],\n",
            "        [11.]])\n",
            "tensor([[1., 2.],\n",
            "        [3., 4.]])\n"
          ],
          "name": "stdout"
        }
      ]
    },
    {
      "cell_type": "markdown",
      "metadata": {
        "id": "t4EBtI5NrjW4"
      },
      "source": [
        "matmul은 In-place Operation 안됨"
      ]
    },
    {
      "cell_type": "code",
      "metadata": {
        "colab": {
          "base_uri": "https://localhost:8080/",
          "height": 181
        },
        "id": "95DlVM7YqNlY",
        "outputId": "460f1099-5949-46cb-9ab2-08eb6825b34b"
      },
      "source": [
        "print(m1.matmul_(torch.FloatTensor([[1],[2]])))\n",
        "print(m1)"
      ],
      "execution_count": 304,
      "outputs": [
        {
          "output_type": "error",
          "ename": "AttributeError",
          "evalue": "ignored",
          "traceback": [
            "\u001b[0;31m---------------------------------------------------------------------------\u001b[0m",
            "\u001b[0;31mAttributeError\u001b[0m                            Traceback (most recent call last)",
            "\u001b[0;32m<ipython-input-304-2972fb6c913e>\u001b[0m in \u001b[0;36m<module>\u001b[0;34m()\u001b[0m\n\u001b[0;32m----> 1\u001b[0;31m \u001b[0mprint\u001b[0m\u001b[0;34m(\u001b[0m\u001b[0mm1\u001b[0m\u001b[0;34m.\u001b[0m\u001b[0mmatmul_\u001b[0m\u001b[0;34m(\u001b[0m\u001b[0mtorch\u001b[0m\u001b[0;34m.\u001b[0m\u001b[0mFloatTensor\u001b[0m\u001b[0;34m(\u001b[0m\u001b[0;34m[\u001b[0m\u001b[0;34m[\u001b[0m\u001b[0;36m1\u001b[0m\u001b[0;34m]\u001b[0m\u001b[0;34m,\u001b[0m\u001b[0;34m[\u001b[0m\u001b[0;36m2\u001b[0m\u001b[0;34m]\u001b[0m\u001b[0;34m]\u001b[0m\u001b[0;34m)\u001b[0m\u001b[0;34m)\u001b[0m\u001b[0;34m)\u001b[0m\u001b[0;34m\u001b[0m\u001b[0;34m\u001b[0m\u001b[0m\n\u001b[0m\u001b[1;32m      2\u001b[0m \u001b[0mprint\u001b[0m\u001b[0;34m(\u001b[0m\u001b[0mm1\u001b[0m\u001b[0;34m)\u001b[0m\u001b[0;34m\u001b[0m\u001b[0;34m\u001b[0m\u001b[0m\n",
            "\u001b[0;31mAttributeError\u001b[0m: 'Tensor' object has no attribute 'matmul_'"
          ]
        }
      ]
    },
    {
      "cell_type": "markdown",
      "metadata": {
        "id": "YzQrafucry6w"
      },
      "source": [
        "Miscellaneous ( 여러종류의, 다양한)"
      ]
    },
    {
      "cell_type": "code",
      "metadata": {
        "id": "8GJ-728BtuSR"
      },
      "source": [
        ""
      ],
      "execution_count": null,
      "outputs": []
    },
    {
      "cell_type": "code",
      "metadata": {
        "colab": {
          "base_uri": "https://localhost:8080/"
        },
        "id": "CVVmtbKYrd7a",
        "outputId": "9325429d-a9b0-4c76-cfeb-38be3ad8f1aa"
      },
      "source": [
        "for x in zip([1,2,3],[4,5,6]):\n",
        "  print(x)"
      ],
      "execution_count": 308,
      "outputs": [
        {
          "output_type": "stream",
          "text": [
            "(1, 4)\n",
            "(2, 5)\n",
            "(3, 6)\n"
          ],
          "name": "stdout"
        }
      ]
    },
    {
      "cell_type": "code",
      "metadata": {
        "colab": {
          "base_uri": "https://localhost:8080/"
        },
        "id": "6CL-98pQr64U",
        "outputId": "550f1620-4c04-4f37-cb3d-77c2f070fc1b"
      },
      "source": [
        "for x, y in zip([1,2,3],[4,5,6]):\n",
        "  print(x)"
      ],
      "execution_count": 309,
      "outputs": [
        {
          "output_type": "stream",
          "text": [
            "1\n",
            "2\n",
            "3\n"
          ],
          "name": "stdout"
        }
      ]
    },
    {
      "cell_type": "code",
      "metadata": {
        "colab": {
          "base_uri": "https://localhost:8080/"
        },
        "id": "8teZOvMWtw9-",
        "outputId": "d1c9ed4b-8129-44ed-e90d-1219eb0efdce"
      },
      "source": [
        "for x, y in zip([1,2,3],[4,5,6]):\n",
        "  print(x)\n",
        "  print(y)"
      ],
      "execution_count": 310,
      "outputs": [
        {
          "output_type": "stream",
          "text": [
            "1\n",
            "4\n",
            "2\n",
            "5\n",
            "3\n",
            "6\n"
          ],
          "name": "stdout"
        }
      ]
    },
    {
      "cell_type": "code",
      "metadata": {
        "colab": {
          "base_uri": "https://localhost:8080/",
          "height": 181
        },
        "id": "Rr1jiJq5t4-X",
        "outputId": "24f0ad38-5443-4046-bcfe-02672e7b9518"
      },
      "source": [
        "for x, y, z in zip([1,2,3],[4,5,6]):\n",
        "  print(x)"
      ],
      "execution_count": 312,
      "outputs": [
        {
          "output_type": "error",
          "ename": "ValueError",
          "evalue": "ignored",
          "traceback": [
            "\u001b[0;31m---------------------------------------------------------------------------\u001b[0m",
            "\u001b[0;31mValueError\u001b[0m                                Traceback (most recent call last)",
            "\u001b[0;32m<ipython-input-312-8e702bafe2dd>\u001b[0m in \u001b[0;36m<module>\u001b[0;34m()\u001b[0m\n\u001b[0;32m----> 1\u001b[0;31m \u001b[0;32mfor\u001b[0m \u001b[0mx\u001b[0m\u001b[0;34m,\u001b[0m \u001b[0my\u001b[0m\u001b[0;34m,\u001b[0m \u001b[0mz\u001b[0m \u001b[0;32min\u001b[0m \u001b[0mzip\u001b[0m\u001b[0;34m(\u001b[0m\u001b[0;34m[\u001b[0m\u001b[0;36m1\u001b[0m\u001b[0;34m,\u001b[0m\u001b[0;36m2\u001b[0m\u001b[0;34m,\u001b[0m\u001b[0;36m3\u001b[0m\u001b[0;34m]\u001b[0m\u001b[0;34m,\u001b[0m\u001b[0;34m[\u001b[0m\u001b[0;36m4\u001b[0m\u001b[0;34m,\u001b[0m\u001b[0;36m5\u001b[0m\u001b[0;34m,\u001b[0m\u001b[0;36m6\u001b[0m\u001b[0;34m]\u001b[0m\u001b[0;34m)\u001b[0m\u001b[0;34m:\u001b[0m\u001b[0;34m\u001b[0m\u001b[0;34m\u001b[0m\u001b[0m\n\u001b[0m\u001b[1;32m      2\u001b[0m   \u001b[0mprint\u001b[0m\u001b[0;34m(\u001b[0m\u001b[0mx\u001b[0m\u001b[0;34m)\u001b[0m\u001b[0;34m\u001b[0m\u001b[0;34m\u001b[0m\u001b[0m\n",
            "\u001b[0;31mValueError\u001b[0m: not enough values to unpack (expected 3, got 2)"
          ]
        }
      ]
    },
    {
      "cell_type": "code",
      "metadata": {
        "colab": {
          "base_uri": "https://localhost:8080/"
        },
        "id": "eE9alGPNuGiV",
        "outputId": "2e7d9b99-6d67-4676-c3e2-2dd42c1bfbaa"
      },
      "source": [
        "for x, y, z in zip([1,2,3], [4,5,6], [7,8,9]):\n",
        "  print(x)"
      ],
      "execution_count": 313,
      "outputs": [
        {
          "output_type": "stream",
          "text": [
            "1\n",
            "2\n",
            "3\n"
          ],
          "name": "stdout"
        }
      ]
    },
    {
      "cell_type": "code",
      "metadata": {
        "colab": {
          "base_uri": "https://localhost:8080/"
        },
        "id": "xFfdyLuFuL21",
        "outputId": "fac87fc7-9a1b-40b0-f5f2-79d4fb1b6e09"
      },
      "source": [
        "for x, y, z in zip([1,2,3], [4,5,6], [7,8,9]):\n",
        "  print(x, y, z)"
      ],
      "execution_count": 314,
      "outputs": [
        {
          "output_type": "stream",
          "text": [
            "1 4 7\n",
            "2 5 8\n",
            "3 6 9\n"
          ],
          "name": "stdout"
        }
      ]
    },
    {
      "cell_type": "code",
      "metadata": {
        "id": "x-gCZDstuSBH"
      },
      "source": [
        ""
      ],
      "execution_count": null,
      "outputs": []
    }
  ]
}