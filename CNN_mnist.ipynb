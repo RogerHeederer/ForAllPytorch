{
  "nbformat": 4,
  "nbformat_minor": 0,
  "metadata": {
    "colab": {
      "name": "CNN_mnist.ipynb",
      "provenance": [],
      "authorship_tag": "ABX9TyPJOd9H+mnGUH7YnCuxegoa",
      "include_colab_link": true
    },
    "kernelspec": {
      "name": "python3",
      "display_name": "Python 3"
    },
    "accelerator": "GPU"
  },
  "cells": [
    {
      "cell_type": "markdown",
      "metadata": {
        "id": "view-in-github",
        "colab_type": "text"
      },
      "source": [
        "<a href=\"https://colab.research.google.com/github/RogerHeederer/ForAllPytorch/blob/main/CNN_mnist.ipynb\" target=\"_parent\"><img src=\"https://colab.research.google.com/assets/colab-badge.svg\" alt=\"Open In Colab\"/></a>"
      ]
    },
    {
      "cell_type": "code",
      "metadata": {
        "id": "iinXn3dqQCaK"
      },
      "source": [
        "import torch\n",
        "import torch.nn as nn\n",
        "import torchvision.datasets as dsets\n",
        "import torchvision.transforms as transforms\n",
        "import torch.nn.init"
      ],
      "execution_count": 35,
      "outputs": []
    },
    {
      "cell_type": "code",
      "metadata": {
        "id": "dLQQT8s7Q3Jx"
      },
      "source": [
        "device = 'cuda' if torch.cuda.is_available() else 'cpu'\n",
        "\n",
        "torch.manual_seed(777)\n",
        "if device == 'cuda':\n",
        "  torch.cuda.manual_seed_all(777)"
      ],
      "execution_count": 36,
      "outputs": []
    },
    {
      "cell_type": "code",
      "metadata": {
        "id": "z9HlRoWeRDkg"
      },
      "source": [
        "#Parameters\n",
        "learning_rate = 0.001\n",
        "training_epochs = 15\n",
        "batch_size = 100"
      ],
      "execution_count": 37,
      "outputs": []
    },
    {
      "cell_type": "code",
      "metadata": {
        "id": "pXp4fSjNRdLp"
      },
      "source": [
        "#Mnist dataset\n",
        "mnist_train = dsets.MNIST(root='MNIST_data/',\n",
        "                          train = True,\n",
        "                          transform = transforms.ToTensor(),\n",
        "                          download=True)\n",
        "\n",
        "mnist_test = dsets.MNIST(root='MNIST_data/',\n",
        "                         train=False,\n",
        "                         transform = transforms.ToTensor(),\n",
        "                         download=True)"
      ],
      "execution_count": 38,
      "outputs": []
    },
    {
      "cell_type": "code",
      "metadata": {
        "id": "uvb_d6_aRtIG"
      },
      "source": [
        "# dataset loader\n",
        "data_loader = torch.utils.data.DataLoader(dataset=mnist_train,\n",
        "                                          batch_size=batch_size,\n",
        "                                          shuffle=True,\n",
        "                                          drop_last=True)"
      ],
      "execution_count": 40,
      "outputs": []
    },
    {
      "cell_type": "code",
      "metadata": {
        "id": "6GYRH7w8j_tS"
      },
      "source": [
        "#CNN 모델 만들기\n",
        "class CNN(torch.nn.Module):\n",
        "\n",
        "    def __init__(self):\n",
        "        super(CNN, self).__init__()\n",
        "        self.keep_prob = 0.5\n",
        "\n",
        "        #Image (1, 1, 28, 28) # batch 1, 채널 1, height 28, width 28\n",
        "        # Layer1에 들어가는 이미지 = (1, 1, 28, 28)\n",
        "        # Conv 레이어 통과 후 -> (?, 32, 28, 28) ?:배치\n",
        "        # pool 레이어 통과 후 -> (?, 32, 14, 14) ?:배치\n",
        "        self.layer1 = torch.nn.Sequential(\n",
        "            torch.nn.Conv2d(1, 32, kernel_size=3, stride=1, padding=1), # 1채널을 받아 32채널로 만든다.\n",
        "            torch.nn.ReLU(),\n",
        "            torch.nn.MaxPool2d(kernel_size=2, stride=2)\n",
        "        )\n",
        "\n",
        "        # Layer2에 들어가는 이미지 = (?, 32, 14, 14)\n",
        "        # Conv 레이어 통과 후 -> (?, 64, 14, 14)\n",
        "        # pool 레이어 통과 후 -> (?, 64, 7, 7)\n",
        "        self.layer2 = torch.nn.Sequential(\n",
        "            torch.nn.Conv2d(32, 64, kernel_size=3, stride=1, padding=1),\n",
        "            torch.nn.ReLU(),\n",
        "            torch.nn.MaxPool2d(kernel_size=2, stride=2)\n",
        "        )\n",
        "        # Layer3에 들어가는 이미지 = (?, 64, 7, 7)\n",
        "        # Conv 레이어 통과 후 -> (?, 128, 7, 7)\n",
        "        # pool 레이어 통과 후 -> (?, 128, 4, 4)\n",
        "        self.layer3 = torch.nn.Sequential(\n",
        "            torch.nn.Conv2d(64, 128, kernel_size=3, stride=1, padding=1),\n",
        "            torch.nn.ReLU(),\n",
        "            torch.nn.MaxPool2d(kernel_size=2, stride=2, padding=1)\n",
        "        )\n",
        "        # Layer4 는 FC1 레이어. \n",
        "        # 위에서 만들어진 (128 * 4 * 4)을 input 넣고 Flatten해서 625 형태로 outputs 해준다.\n",
        "        self.fc1 = torch.nn.Linear(128 * 4 * 4, 625, bias=True)\n",
        "        torch.nn.init.xavier_uniform_(self.fc1.weight) # 레이어 웨이트 초기화\n",
        "        self.layer4 = torch.nn.Sequential(\n",
        "            self.fc1,\n",
        "            torch.nn.ReLU(),\n",
        "            torch.nn.Dropout(p=1 - self.keep_prob)\n",
        "        )\n",
        "\n",
        "        self.fc2 = torch.nn.Linear(625, 10, bias=True) #625 인풋 받아서 10개로 뿌려줌\n",
        "        torch.nn.init.xavier_uniform_(self.fc2.weight)\n",
        "\n",
        "    def forward(self, x):\n",
        "      out = self.layer1(x)\n",
        "      out = self.layer2(out)\n",
        "      out = self.layer3(out)\n",
        "      out = out.view(out.size(0), -1) #out.size(0)= 배치 사이즈 / Flatten them for FC\n",
        "      out = self.layer4(out)\n",
        "      out = self.fc2(out)\n",
        "      return out"
      ],
      "execution_count": 76,
      "outputs": []
    },
    {
      "cell_type": "code",
      "metadata": {
        "colab": {
          "base_uri": "https://localhost:8080/"
        },
        "id": "k71RWZnKrOqd",
        "outputId": "a2e60359-0c8f-4ffa-83ba-87aca501e38c"
      },
      "source": [
        "model = CNN().to(device)\n",
        "model"
      ],
      "execution_count": 77,
      "outputs": [
        {
          "output_type": "execute_result",
          "data": {
            "text/plain": [
              "CNN(\n",
              "  (layer1): Sequential(\n",
              "    (0): Conv2d(1, 32, kernel_size=(3, 3), stride=(1, 1), padding=(1, 1))\n",
              "    (1): ReLU()\n",
              "    (2): MaxPool2d(kernel_size=2, stride=2, padding=0, dilation=1, ceil_mode=False)\n",
              "  )\n",
              "  (layer2): Sequential(\n",
              "    (0): Conv2d(32, 64, kernel_size=(3, 3), stride=(1, 1), padding=(1, 1))\n",
              "    (1): ReLU()\n",
              "    (2): MaxPool2d(kernel_size=2, stride=2, padding=0, dilation=1, ceil_mode=False)\n",
              "  )\n",
              "  (layer3): Sequential(\n",
              "    (0): Conv2d(64, 128, kernel_size=(3, 3), stride=(1, 1), padding=(1, 1))\n",
              "    (1): ReLU()\n",
              "    (2): MaxPool2d(kernel_size=2, stride=2, padding=1, dilation=1, ceil_mode=False)\n",
              "  )\n",
              "  (fc1): Linear(in_features=2048, out_features=625, bias=True)\n",
              "  (layer4): Sequential(\n",
              "    (0): Linear(in_features=2048, out_features=625, bias=True)\n",
              "    (1): ReLU()\n",
              "    (2): Dropout(p=0.5, inplace=False)\n",
              "  )\n",
              "  (fc2): Linear(in_features=625, out_features=10, bias=True)\n",
              ")"
            ]
          },
          "metadata": {
            "tags": []
          },
          "execution_count": 77
        }
      ]
    },
    {
      "cell_type": "markdown",
      "metadata": {
        "id": "RD52u-9Ct_it"
      },
      "source": [
        "임의 값 넣어서 우선 모델 테스트"
      ]
    },
    {
      "cell_type": "code",
      "metadata": {
        "colab": {
          "base_uri": "https://localhost:8080/"
        },
        "id": "f3hQK8nzscY_",
        "outputId": "b158d84f-79a1-4ac9-dc1a-3e03affac030"
      },
      "source": [
        "value = torch.Tensor(1,1,28, 28).to(device)\n",
        "print(model(value).shape)\n",
        "print(model(value))"
      ],
      "execution_count": 79,
      "outputs": [
        {
          "output_type": "stream",
          "text": [
            "torch.Size([1, 10])\n",
            "tensor([[-1.7800e+33,  2.3573e+33,  7.1827e+33, -1.1041e+33,  5.7754e+33,\n",
            "         -3.6955e+33,  2.4657e+33,  6.3851e+32, -7.6373e+33,  8.5179e+32]],\n",
            "       grad_fn=<AddmmBackward>)\n"
          ],
          "name": "stdout"
        }
      ]
    },
    {
      "cell_type": "code",
      "metadata": {
        "id": "expY89D2uICA"
      },
      "source": [
        "# loss function and optimizer\n",
        "criterion = torch.nn.CrossEntropyLoss().to(device)\n",
        "optimizer = torch.optim.Adam(model.parameters(), lr=learning_rate)"
      ],
      "execution_count": 81,
      "outputs": []
    },
    {
      "cell_type": "code",
      "metadata": {
        "colab": {
          "base_uri": "https://localhost:8080/"
        },
        "id": "AZU08G1zuSXl",
        "outputId": "e476fb69-e73e-4c95-bb42-107c383f0ebb"
      },
      "source": [
        "# 모델 훈련\n",
        "total_batch = len(data_loader)\n",
        "model.train()\n",
        "print('학습 시작')\n",
        "for epoch in range(training_epochs): #0~14 epoch\n",
        "    avg_cost = 0\n",
        "\n",
        "    for X, Y in data_loader:\n",
        "      #image is already size of 28x28, no reshape\n",
        "      #label is not one-hot encoded\n",
        "      X = X.to(device)\n",
        "      Y = Y.to(device)\n",
        "\n",
        "      optimizer.zero_grad()\n",
        "      hypothesis = model(X)\n",
        "      cost = criterion(hypothesis, Y)\n",
        "      cost.backward()\n",
        "      optimizer.step()\n",
        "      #배치 100개씩 들어가서 cost 구하고, avg_cost에 담고, 이 과정 쭉 반복이후에 마지막에 total_batch로 나눠줌\n",
        "      avg_cost += cost / total_batch \n",
        "\n",
        "    print('Epoch:{:>4}, cost = {:>.9}'.format(epoch+1, avg_cost))\n",
        "  \n",
        "print('Learning Finished')"
      ],
      "execution_count": 82,
      "outputs": [
        {
          "output_type": "stream",
          "text": [
            "학습 시작\n",
            "Epoch:   1, cost = 0.197677523\n",
            "Epoch:   2, cost = 0.0527819954\n",
            "Epoch:   3, cost = 0.0378717445\n",
            "Epoch:   4, cost = 0.0292379614\n",
            "Epoch:   5, cost = 0.0252907258\n",
            "Epoch:   6, cost = 0.0201752447\n",
            "Epoch:   7, cost = 0.0188019797\n",
            "Epoch:   8, cost = 0.0144441584\n",
            "Epoch:   9, cost = 0.0113046477\n",
            "Epoch:  10, cost = 0.0121627096\n",
            "Epoch:  11, cost = 0.0107967518\n",
            "Epoch:  12, cost = 0.00967978965\n",
            "Epoch:  13, cost = 0.00828595366\n",
            "Epoch:  14, cost = 0.0074187736\n",
            "Epoch:  15, cost = 0.00869606435\n",
            "Learning Finished\n"
          ],
          "name": "stdout"
        }
      ]
    },
    {
      "cell_type": "code",
      "metadata": {
        "colab": {
          "base_uri": "https://localhost:8080/"
        },
        "id": "LygAnG6szHcm",
        "outputId": "1e13de65-c95b-4da4-f34d-ad756d88f99e"
      },
      "source": [
        "with torch.no_grad():\n",
        "  model.eval() # set the model to evaluation mode (dropout=False)\n",
        "\n",
        "  X_test = mnist_test.data.view(len(mnist_test), 1, 28, 28).float().to(device)\n",
        "  Y_test = mnist_test.targets.to(device)\n",
        "\n",
        "  prediction = model(X_test)\n",
        "  correct_prediction = torch.argmax(prediction, 1) == Y_test\n",
        "  accuracy = correct_prediction.float().mean()\n",
        "  print('Accuracy:', accuracy.item())"
      ],
      "execution_count": 88,
      "outputs": [
        {
          "output_type": "stream",
          "text": [
            "Accuracy: 0.986299991607666\n"
          ],
          "name": "stdout"
        }
      ]
    },
    {
      "cell_type": "code",
      "metadata": {
        "id": "waWMqqyx7Mg9"
      },
      "source": [
        ""
      ],
      "execution_count": null,
      "outputs": []
    }
  ]
}